{
 "cells": [
  {
   "cell_type": "markdown",
   "metadata": {},
   "source": [
    "# What is the True Normal Human Body Temperature? \n",
    "\n",
    "#### Background\n",
    "\n",
    "The mean normal body temperature was held to be 37$^{\\circ}$C or 98.6$^{\\circ}$F for more than 120 years since it was first conceptualized and reported by Carl Wunderlich in a famous 1868 book. But, is this value statistically correct?"
   ]
  },
  {
   "cell_type": "markdown",
   "metadata": {},
   "source": [
    "<div class=\"span5 alert alert-info\">\n",
    "<h3>Exercises</h3>\n",
    "\n",
    "<p>In this exercise, you will analyze a dataset of human body temperatures and employ the concepts of hypothesis testing, confidence intervals, and statistical significance.</p>\n",
    "\n",
    "<p>Answer the following questions <b>in this notebook below and submit to your Github account</b>.</p> \n",
    "\n",
    "<ol>\n",
    "<li>  Is the distribution of body temperatures normal? \n",
    "    <ul>\n",
    "    <li> Although this is not a requirement for CLT to hold (read CLT carefully), it gives us some peace of mind that the population may also be normally distributed if we assume that this sample is representative of the population.\n",
    "    </ul>\n",
    "<li>  Is the sample size large? Are the observations independent?\n",
    "    <ul>\n",
    "    <li> Remember that this is a condition for the CLT, and hence the statistical tests we are using, to apply.\n",
    "    </ul>\n",
    "<li>  Is the true population mean really 98.6 degrees F?\n",
    "    <ul>\n",
    "    <li> Would you use a one-sample or two-sample test? Why?\n",
    "    <li> In this situation, is it appropriate to use the $t$ or $z$ statistic? \n",
    "    <li> Now try using the other test. How is the result be different? Why?\n",
    "    </ul>\n",
    "<li>  At what temperature should we consider someone's temperature to be \"abnormal\"?\n",
    "    <ul>\n",
    "    <li> Start by computing the margin of error and confidence interval.\n",
    "    </ul>\n",
    "<li>  Is there a significant difference between males and females in normal temperature?\n",
    "    <ul>\n",
    "    <li> What test did you use and why?\n",
    "    <li> Write a story with your conclusion in the context of the original problem.\n",
    "    </ul>\n",
    "</ol>\n",
    "\n",
    "You can include written notes in notebook cells using Markdown: \n",
    "   - In the control panel at the top, choose Cell > Cell Type > Markdown\n",
    "   - Markdown syntax: http://nestacms.com/docs/creating-content/markdown-cheat-sheet\n",
    "\n",
    "#### Resources\n",
    "\n",
    "+ Information and data sources: http://www.amstat.org/publications/jse/datasets/normtemp.txt, http://www.amstat.org/publications/jse/jse_data_archive.htm\n",
    "+ Markdown syntax: http://nestacms.com/docs/creating-content/markdown-cheat-sheet\n",
    "\n",
    "****\n",
    "</div>"
   ]
  },
  {
   "cell_type": "code",
   "execution_count": 24,
   "metadata": {},
   "outputs": [],
   "source": [
    "import pandas as pd\n",
    "import numpy as np\n",
    "import matplotlib.pyplot as plt\n",
    "import seaborn as sns\n",
    "from scipy import stats\n",
    "df = pd.read_csv('data/human_body_temperature.csv')"
   ]
  },
  {
   "cell_type": "markdown",
   "metadata": {},
   "source": [
    "<h3> Is the distribution of body temperatures normal? </h3>\n",
    "\n",
    "##### Exteral resources\n",
    "http://www.psychwiki.com/wiki/How_do_I_determine_whether_my_data_are_normal%3F "
   ]
  },
  {
   "cell_type": "markdown",
   "metadata": {},
   "source": [
    "<p> To understand distribution of a given parameter. histogram is better suited</p>\n",
    "\n"
   ]
  },
  {
   "cell_type": "code",
   "execution_count": 25,
   "metadata": {},
   "outputs": [
    {
     "data": {
      "image/png": "[encoded data removed]",
      "text/plain": [
       "<matplotlib.figure.Figure at 0x113622160>"
      ]
     },
     "metadata": {},
     "output_type": "display_data"
    }
   ],
   "source": [
    "_= sns.distplot(df.temperature, bins= 30)\n",
    "_= plt.xlabel('Temperature')\n",
    "_= plt.ylabel('Frequency')\n",
    "_= plt.show()"
   ]
  },
  {
   "cell_type": "markdown",
   "metadata": {},
   "source": [
    "#### Distrution is not Normal. Quick look at temperature histogram we can conclude that distribution is slightly left skewed but for all practical purposes this is a normal (after discussion with lucas)\n",
    "\n",
    "##### Drawback with histogram is binning bias. may not be relevant in current situation. \n",
    "##### for more accurate result lets plot ECDF."
   ]
  },
  {
   "cell_type": "code",
   "execution_count": 26,
   "metadata": {},
   "outputs": [],
   "source": [
    "def ecdf(data):\n",
    "     n = len(data)\n",
    "     x = np.sort(data)\n",
    "     y = np.arange(1, n+1)/n\n",
    "     return x,y"
   ]
  },
  {
   "cell_type": "code",
   "execution_count": 27,
   "metadata": {},
   "outputs": [
    {
     "data": {
      "image/png": "[encoded data removed]",
      "text/plain": [
       "<matplotlib.figure.Figure at 0x1135c1c88>"
      ]
     },
     "metadata": {},
     "output_type": "display_data"
    }
   ],
   "source": [
    "# ECDF for Normal distribution of temparature \n",
    "mean_temp = np.mean(df.temperature)\n",
    "std_temp = np.std(df.temperature)\n",
    "noraml_temp = np.random.normal(mean_temp,std_temp,10000)\n",
    "x_normal,y_normal = ecdf(noraml_temp) \n",
    "\n",
    "# ECDF for actual distribution of temparature\n",
    "x_obse,y_obse = ecdf(df.temperature)\n",
    "\n",
    "# plot both actaul distruntion and Normal (therotical) distribution.   \n",
    "_= plt.plot(x_normal,y_normal, marker='.',linestyle='none',color='blue',alpha=0.2)\n",
    "_= plt.plot(x_obse,y_obse,marker='.',linestyle='none',color='red')\n",
    "\n",
    "# legend and plot lables\n",
    "_= plt.xlabel('temparature')\n",
    "_= plt.ylabel('ecdf')\n",
    "_= plt.legend(['Normal', 'Actaul'], loc='lower right')\n",
    "\n",
    "plt.show()\n"
   ]
  },
  {
   "cell_type": "markdown",
   "metadata": {},
   "source": [
    "### 2. Is the sample size large? Are the observations independent? "
   ]
  },
  {
   "cell_type": "code",
   "execution_count": 42,
   "metadata": {},
   "outputs": [],
   "source": [
    "no_of_observations = len(df.temperature)\n",
    "\n",
    "##### “When a sample has more than 30 observations, \n",
    "##### the normal distribution can be used in place of the t distribution.\n",
    "##### ~ Applied Statistics for Public and Nonprofit Administration (Meier et.al) p. 191.” \n",
    "\n",
    "# Sample size is large enough and i see no reason to believe observations are dependent."
   ]
  },
  {
   "cell_type": "markdown",
   "metadata": {},
   "source": [
    "### 3. Is the true population mean really 98.6 degrees F?"
   ]
  },
  {
   "cell_type": "markdown",
   "metadata": {},
   "source": [
    "##### H0 (null hypothesis)  : Population mean (mu) = 98.6 F\n",
    "##### Ha (alternative hypothesis) : Population mean (mu) !=  98.6 F \n",
    "\n",
    "\n"
   ]
  },
  {
   "cell_type": "code",
   "execution_count": 45,
   "metadata": {},
   "outputs": [],
   "source": [
    "sample_mean = np.mean(df.temperature)\n",
    "sample_std = np.std(df.temperature)\n",
    "\n",
    "std_error = sample_std / np.sqrt(no_of_observations)\n",
    "Z_value = (sample_mean - pop_mean) /  std_error "
   ]
  },
  {
   "cell_type": "markdown",
   "metadata": {},
   "source": [
    "##### Critical value for 95% confidence interval is 1.96\n",
    "critical_value = 1.96\n",
    "\n",
    "<p> As z-value values falls beyond range (-1.96 to 1.96). So reject Null hypothesis.\n",
    "    So, <b> Population mean is NOT 98.6 F </b>\n",
    "    </p>"
   ]
  },
  {
   "cell_type": "markdown",
   "metadata": {},
   "source": [
    "##### Q1. Would you use a one-sample or two-sample test? Why? \n",
    "<p>\n",
    "<b>Ans: One sample Z-test because of </b> \n",
    "One-sample Z-tests are used to compare a sample mean with the known population mean. \n",
    "Two-sample Z-tests, the other hand, are used to compare either independent samples or dependent samples.\n",
    "</p>"
   ]
  },
  {
   "cell_type": "markdown",
   "metadata": {},
   "source": [
    "##### Q2.  In this situation, is it appropriate to use the tt or zz statistic?  \n",
    "<p> Ans: t-statistic is applicable, if we have observations less than 30 and population standard deviation is missing.\n",
    "z-statistic is applicable, if population standard deviation is avaialble and observations more than 30 </p>\n",
    "<b> I choose Z test </b>"
   ]
  },
  {
   "cell_type": "markdown",
   "metadata": {},
   "source": [
    "##### Q3.  Now try using the other test. How is the result be different? Why? "
   ]
  },
  {
   "cell_type": "code",
   "execution_count": 57,
   "metadata": {},
   "outputs": [],
   "source": [
    "samp_size = 25\n",
    "critical_value = 3.078  # 97.5% confidence interval with 24 degrees of freedom.\n",
    "\n",
    "sample_permutation = np.random.choice(df.temperature,samp_size)\n",
    "\n",
    "sample_mean = np.mean(sample_permutation)\n",
    "sample_std = np.std(sample_permutation)\n",
    "\n",
    "std_error = sample_std / np.sqrt(no_of_observations)\n",
    "\n",
    "t_value = (sample_mean - pop_mean) /  std_error"
   ]
  },
  {
   "cell_type": "markdown",
   "metadata": {},
   "source": [
    "<p>\n",
    "As t_value falls towards left of citical range (-3.078 to 3.078).\n",
    "<b> So reject Null Hypothesis </b>\n",
    "</p>"
   ]
  },
  {
   "cell_type": "markdown",
   "metadata": {},
   "source": [
    "### 4. At what temperature should we consider someone's temperature to be \"abnormal\"? "
   ]
  },
  {
   "cell_type": "markdown",
   "metadata": {},
   "source": [
    "#### Confidence Interval = (sample_mean +- critical_value(97.5% confidence)* (sample std / sqrt(observation)))"
   ]
  },
  {
   "cell_type": "code",
   "execution_count": 62,
   "metadata": {},
   "outputs": [],
   "source": [
    "sig_interval =  critical_value * (sample_std / np.sqrt(samp_obser))"
   ]
  },
  {
   "cell_type": "code",
   "execution_count": 87,
   "metadata": {},
   "outputs": [
    {
     "name": "stdout",
     "output_type": "stream",
     "text": [
      "98.7562584855\n",
      "98.0197415145\n"
     ]
    }
   ],
   "source": [
    "min_value = sample_mean + sig_interval\n",
    "max_value = sample_mean - sig_interval\n",
    "print(min_value)\n",
    "print(max_value)"
   ]
  },
  {
   "cell_type": "markdown",
   "metadata": {},
   "source": [
    "#### Any value beyond min_value and max_value is considered as abnormal"
   ]
  },
  {
   "cell_type": "markdown",
   "metadata": {},
   "source": [
    "## 5. Is there a significant difference between males and females in normal temperature? "
   ]
  },
  {
   "cell_type": "markdown",
   "metadata": {},
   "source": [
    "<p> \n",
    "    <b> H0 (Null hypothesis) : Mean temp of male  is same as mean temp of female. </b> <br> </br>\n",
    "    <b> Ha (Alternative hypothesis) : Mean temp of male  is different from mean temp of female. </b> \n",
    "</p>"
   ]
  },
  {
   "cell_type": "code",
   "execution_count": 83,
   "metadata": {},
   "outputs": [],
   "source": [
    "male_temp = df[df.gender == 'M'].temperature\n",
    "female_temp = df[df.gender == 'F'].temperature\n",
    "samp_size = 25\n",
    "\n",
    "male_temp_sample = np.random.choice(male_temp,samp_size)\n",
    "female_temp_sample = np.random.choice(female_temp,samp_size)\n",
    "\n",
    "male_temp_sample_mean = np.mean(male_temp_sample)\n",
    "female_temp_sample_mean = np.mean(female_temp_sample)\n",
    "\n",
    "male_temp_sample_var = np.var(male_temp_sample)\n",
    "female_temp_sample_var = np.var(female_temp_sample)\n",
    "\n",
    "t_value = (male_temp_sample_mean - female_temp_sample_mean) / \\\n",
    "np.sqrt((male_temp_sample_var/samp_size) + (female_temp_sample_var/samp_size))"
   ]
  },
  {
   "cell_type": "markdown",
   "metadata": {},
   "source": [
    "critical_value = 3.078\n",
    "\n",
    "reject H0 if abs(t_value) > critical_value. In this case abs(t_value) < critical_value, \n",
    "<p> <b> so H0 is more likely. </b> </p>"
   ]
  },
  {
   "cell_type": "markdown",
   "metadata": {},
   "source": [
    "reference : http://www.itl.nist.gov/div898/handbook/eda/section3/eda353.htm"
   ]
  },
  {
   "cell_type": "markdown",
   "metadata": {},
   "source": [
    "### Conclusion : Human body temparature ranges b/w 98 and 98.75 with no impact on sex."
   ]
  },
  {
   "cell_type": "code",
   "execution_count": null,
   "metadata": {},
   "outputs": [],
   "source": []
  }
 ],
 "metadata": {
  "kernelspec": {
   "display_name": "Python 3",
   "language": "python",
   "name": "python3"
  },
  "language_info": {
   "codemirror_mode": {
    "name": "ipython",
    "version": 3
   },
   "file_extension": ".py",
   "mimetype": "text/x-python",
   "name": "python",
   "nbconvert_exporter": "python",
   "pygments_lexer": "ipython3",
   "version": "3.5.0"
  }
 },
 "nbformat": 4,
 "nbformat_minor": 1
}
