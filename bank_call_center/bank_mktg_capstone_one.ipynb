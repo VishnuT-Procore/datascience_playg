{
 "cells": [
  {
   "cell_type": "code",
   "execution_count": 1,
   "metadata": {},
   "outputs": [],
   "source": [
    "import numpy as np\n",
    "import pandas as pd\n",
    "import matplotlib.pyplot as plt\n",
    "import seaborn as sns\n",
    "\n",
    "sns.set(style=\"darkgrid\")\n",
    "sns.set(rc={'figure.figsize':(10,8)})"
   ]
  },
  {
   "cell_type": "code",
   "execution_count": 77,
   "metadata": {},
   "outputs": [],
   "source": [
    "bnk_mrktg_raw =  pd.read_csv(\"/Users/vishnu/Downloads/bank/bank.csv\",sep=';')"
   ]
  },
  {
   "cell_type": "code",
   "execution_count": 3,
   "metadata": {},
   "outputs": [
    {
     "data": {
      "text/html": [
       "<div>\n",
       "<style scoped>\n",
       "    .dataframe tbody tr th:only-of-type {\n",
       "        vertical-align: middle;\n",
       "    }\n",
       "\n",
       "    .dataframe tbody tr th {\n",
       "        vertical-align: top;\n",
       "    }\n",
       "\n",
       "    .dataframe thead th {\n",
       "        text-align: right;\n",
       "    }\n",
       "</style>\n",
       "<table border=\"1\" class=\"dataframe\">\n",
       "  <thead>\n",
       "    <tr style=\"text-align: right;\">\n",
       "      <th></th>\n",
       "      <th>age</th>\n",
       "      <th>job</th>\n",
       "      <th>marital</th>\n",
       "      <th>education</th>\n",
       "      <th>default</th>\n",
       "      <th>balance</th>\n",
       "      <th>housing</th>\n",
       "      <th>loan</th>\n",
       "      <th>contact</th>\n",
       "      <th>day</th>\n",
       "      <th>month</th>\n",
       "      <th>duration</th>\n",
       "      <th>campaign</th>\n",
       "      <th>pdays</th>\n",
       "      <th>previous</th>\n",
       "      <th>poutcome</th>\n",
       "      <th>y</th>\n",
       "    </tr>\n",
       "  </thead>\n",
       "  <tbody>\n",
       "    <tr>\n",
       "      <th>0</th>\n",
       "      <td>30</td>\n",
       "      <td>unemployed</td>\n",
       "      <td>married</td>\n",
       "      <td>primary</td>\n",
       "      <td>no</td>\n",
       "      <td>1787</td>\n",
       "      <td>no</td>\n",
       "      <td>no</td>\n",
       "      <td>cellular</td>\n",
       "      <td>19</td>\n",
       "      <td>oct</td>\n",
       "      <td>79</td>\n",
       "      <td>1</td>\n",
       "      <td>-1</td>\n",
       "      <td>0</td>\n",
       "      <td>unknown</td>\n",
       "      <td>no</td>\n",
       "    </tr>\n",
       "    <tr>\n",
       "      <th>1</th>\n",
       "      <td>33</td>\n",
       "      <td>services</td>\n",
       "      <td>married</td>\n",
       "      <td>secondary</td>\n",
       "      <td>no</td>\n",
       "      <td>4789</td>\n",
       "      <td>yes</td>\n",
       "      <td>yes</td>\n",
       "      <td>cellular</td>\n",
       "      <td>11</td>\n",
       "      <td>may</td>\n",
       "      <td>220</td>\n",
       "      <td>1</td>\n",
       "      <td>339</td>\n",
       "      <td>4</td>\n",
       "      <td>failure</td>\n",
       "      <td>no</td>\n",
       "    </tr>\n",
       "    <tr>\n",
       "      <th>2</th>\n",
       "      <td>35</td>\n",
       "      <td>management</td>\n",
       "      <td>single</td>\n",
       "      <td>tertiary</td>\n",
       "      <td>no</td>\n",
       "      <td>1350</td>\n",
       "      <td>yes</td>\n",
       "      <td>no</td>\n",
       "      <td>cellular</td>\n",
       "      <td>16</td>\n",
       "      <td>apr</td>\n",
       "      <td>185</td>\n",
       "      <td>1</td>\n",
       "      <td>330</td>\n",
       "      <td>1</td>\n",
       "      <td>failure</td>\n",
       "      <td>no</td>\n",
       "    </tr>\n",
       "    <tr>\n",
       "      <th>3</th>\n",
       "      <td>30</td>\n",
       "      <td>management</td>\n",
       "      <td>married</td>\n",
       "      <td>tertiary</td>\n",
       "      <td>no</td>\n",
       "      <td>1476</td>\n",
       "      <td>yes</td>\n",
       "      <td>yes</td>\n",
       "      <td>unknown</td>\n",
       "      <td>3</td>\n",
       "      <td>jun</td>\n",
       "      <td>199</td>\n",
       "      <td>4</td>\n",
       "      <td>-1</td>\n",
       "      <td>0</td>\n",
       "      <td>unknown</td>\n",
       "      <td>no</td>\n",
       "    </tr>\n",
       "    <tr>\n",
       "      <th>4</th>\n",
       "      <td>59</td>\n",
       "      <td>blue-collar</td>\n",
       "      <td>married</td>\n",
       "      <td>secondary</td>\n",
       "      <td>no</td>\n",
       "      <td>0</td>\n",
       "      <td>yes</td>\n",
       "      <td>no</td>\n",
       "      <td>unknown</td>\n",
       "      <td>5</td>\n",
       "      <td>may</td>\n",
       "      <td>226</td>\n",
       "      <td>1</td>\n",
       "      <td>-1</td>\n",
       "      <td>0</td>\n",
       "      <td>unknown</td>\n",
       "      <td>no</td>\n",
       "    </tr>\n",
       "  </tbody>\n",
       "</table>\n",
       "</div>"
      ],
      "text/plain": [
       "   age          job  marital  education default  balance housing loan  \\\n",
       "0   30   unemployed  married    primary      no     1787      no   no   \n",
       "1   33     services  married  secondary      no     4789     yes  yes   \n",
       "2   35   management   single   tertiary      no     1350     yes   no   \n",
       "3   30   management  married   tertiary      no     1476     yes  yes   \n",
       "4   59  blue-collar  married  secondary      no        0     yes   no   \n",
       "\n",
       "    contact  day month  duration  campaign  pdays  previous poutcome   y  \n",
       "0  cellular   19   oct        79         1     -1         0  unknown  no  \n",
       "1  cellular   11   may       220         1    339         4  failure  no  \n",
       "2  cellular   16   apr       185         1    330         1  failure  no  \n",
       "3   unknown    3   jun       199         4     -1         0  unknown  no  \n",
       "4   unknown    5   may       226         1     -1         0  unknown  no  "
      ]
     },
     "execution_count": 3,
     "metadata": {},
     "output_type": "execute_result"
    }
   ],
   "source": [
    "bnk_mrktg_raw.head()"
   ]
  },
  {
   "cell_type": "code",
   "execution_count": 4,
   "metadata": {},
   "outputs": [
    {
     "data": {
      "text/plain": [
       "age          False\n",
       "job          False\n",
       "marital      False\n",
       "education    False\n",
       "default      False\n",
       "balance      False\n",
       "housing      False\n",
       "loan         False\n",
       "contact      False\n",
       "day          False\n",
       "month        False\n",
       "duration     False\n",
       "campaign     False\n",
       "pdays        False\n",
       "previous     False\n",
       "poutcome     False\n",
       "y            False\n",
       "dtype: bool"
      ]
     },
     "execution_count": 4,
     "metadata": {},
     "output_type": "execute_result"
    }
   ],
   "source": [
    "# Check for missing values in data set\n",
    "bnk_mrktg_raw.isnull().any()\n",
    "# There are no missing values."
   ]
  },
  {
   "cell_type": "markdown",
   "metadata": {},
   "source": [
    "<div class=\"span5 alert alert-info\">\n",
    "\n",
    "<p> <b> Input variables: </b> <br>\n",
    "   ### bank client data: <br>\n",
    "\n",
    "   1 - age (numeric)  <br>\n",
    "   2 - job : type of job (categorical: \"admin.\",\"unknown\",\"unemployed\",\"management\",\"housemaid\",\"entrepreneur\",\"student\",\n",
    "                                       \"blue-collar\",\"self-employed\",\"retired\",\"technician\",\"services\")  <br>\n",
    "   3 - marital : marital status (categorical: \"married\",\"divorced\",\"single\"; note: \"divorced\" means divorced or widowed) <br>\n",
    "   4 - education (categorical: \"unknown\",\"secondary\",\"primary\",\"tertiary\") <br>\n",
    "   5 - default: has credit in default? (binary: \"yes\",\"no\") <br>\n",
    "   6 - balance: average yearly balance, in euros (numeric)  <br>\n",
    "   7 - housing: has housing loan? (binary: \"yes\",\"no\")<br>\n",
    "   8 - loan: has personal loan? (binary: \"yes\",\"no\")<br>\n",
    "   # related with the last contact of the current campaign: <br>\n",
    "   9 - contact: contact communication type (categorical: \"unknown\",\"telephone\",\"cellular\") <br>\n",
    "  10 - day: last contact day of the month (numeric)<br>\n",
    "  11 - month: last contact month of year (categorical: \"jan\", \"feb\", \"mar\", ..., \"nov\", \"dec\")<br>\n",
    "  12 - duration: last contact duration, in seconds (numeric)<br>\n",
    "   # other attributes: <br>\n",
    "  13 - campaign: number of contacts performed during this campaign and for this client (numeric, includes last contact) <br>\n",
    "  14 - pdays: number of days that passed by after the client was last contacted from a previous campaign (numeric, -1 means client was not previously contacted)<br>\n",
    "  15 - previous: number of contacts performed before this campaign and for this client (numeric)<br>\n",
    "  16 - poutcome: outcome of the previous marketing campaign (categorical: \"unknown\",\"other\",\"failure\",\"success\")<br><br>\n",
    "\n",
    "  <b> Output variable (desired target): </b> <br>\n",
    "  17 - y - has the client subscribed a term deposit? (binary: \"yes\",\"no\") <br>\n",
    "</p>\n",
    "</div>"
   ]
  },
  {
   "cell_type": "code",
   "execution_count": 5,
   "metadata": {},
   "outputs": [
    {
     "data": {
      "text/plain": [
       "job          object\n",
       "marital      object\n",
       "education    object\n",
       "default      object\n",
       "housing      object\n",
       "loan         object\n",
       "contact      object\n",
       "month        object\n",
       "poutcome     object\n",
       "y            object\n",
       "dtype: object"
      ]
     },
     "execution_count": 5,
     "metadata": {},
     "output_type": "execute_result"
    }
   ],
   "source": [
    "# Identify all non integer parameters. \n",
    "bnk_mrktg_raw.dtypes[bnk_mrktg_raw.dtypes == 'object']"
   ]
  },
  {
   "cell_type": "code",
   "execution_count": 78,
   "metadata": {},
   "outputs": [
    {
     "name": "stdout",
     "output_type": "stream",
     "text": [
      "all unique values for default ['no' 'yes']\n",
      "all unique values for loan ['no' 'yes']\n",
      "all unique values for contact ['cellular' 'unknown' 'telephone']\n",
      "all unique values for month ['oct' 'may' 'apr' 'jun' 'feb' 'aug' 'jan' 'jul' 'nov' 'sep' 'mar' 'dec']\n",
      "all unique values for y ['no' 'yes']\n"
     ]
    }
   ],
   "source": [
    "print(\"all unique values for default %s\" %bnk_mrktg_raw['default'].unique())\n",
    "print(\"all unique values for loan %s\" %bnk_mrktg_raw['loan'].unique())\n",
    "print(\"all unique values for contact %s\" %bnk_mrktg_raw['contact'].unique())\n",
    "print(\"all unique values for month %s\" %bnk_mrktg_raw['month'].unique())\n",
    "print(\"all unique values for y %s\" %bnk_mrktg_raw['y'].unique())"
   ]
  },
  {
   "cell_type": "code",
   "execution_count": 96,
   "metadata": {},
   "outputs": [],
   "source": [
    "# Convert string response varaible into numeric \n",
    "# 0 for No and 1 for yes\n",
    "bnk_mrktg_raw.y.replace({'no': 0, 'yes':1}, inplace=True)\n",
    "\n",
    "# Yes : 521\n",
    "# No  : 4000"
   ]
  },
  {
   "cell_type": "code",
   "execution_count": 97,
   "metadata": {},
   "outputs": [
    {
     "data": {
      "text/html": [
       "<div>\n",
       "<style scoped>\n",
       "    .dataframe tbody tr th:only-of-type {\n",
       "        vertical-align: middle;\n",
       "    }\n",
       "\n",
       "    .dataframe tbody tr th {\n",
       "        vertical-align: top;\n",
       "    }\n",
       "\n",
       "    .dataframe thead th {\n",
       "        text-align: right;\n",
       "    }\n",
       "</style>\n",
       "<table border=\"1\" class=\"dataframe\">\n",
       "  <thead>\n",
       "    <tr style=\"text-align: right;\">\n",
       "      <th></th>\n",
       "      <th>age</th>\n",
       "      <th>balance</th>\n",
       "      <th>day</th>\n",
       "      <th>duration</th>\n",
       "      <th>campaign</th>\n",
       "      <th>pdays</th>\n",
       "      <th>previous</th>\n",
       "    </tr>\n",
       "    <tr>\n",
       "      <th>y</th>\n",
       "      <th></th>\n",
       "      <th></th>\n",
       "      <th></th>\n",
       "      <th></th>\n",
       "      <th></th>\n",
       "      <th></th>\n",
       "      <th></th>\n",
       "    </tr>\n",
       "  </thead>\n",
       "  <tbody>\n",
       "    <tr>\n",
       "      <th>0</th>\n",
       "      <td>40.998000</td>\n",
       "      <td>1403.211750</td>\n",
       "      <td>15.948750</td>\n",
       "      <td>226.347500</td>\n",
       "      <td>2.862250</td>\n",
       "      <td>36.006000</td>\n",
       "      <td>0.471250</td>\n",
       "    </tr>\n",
       "    <tr>\n",
       "      <th>1</th>\n",
       "      <td>42.491363</td>\n",
       "      <td>1571.955854</td>\n",
       "      <td>15.658349</td>\n",
       "      <td>552.742802</td>\n",
       "      <td>2.266795</td>\n",
       "      <td>68.639155</td>\n",
       "      <td>1.090211</td>\n",
       "    </tr>\n",
       "  </tbody>\n",
       "</table>\n",
       "</div>"
      ],
      "text/plain": [
       "         age      balance        day    duration  campaign      pdays  \\\n",
       "y                                                                       \n",
       "0  40.998000  1403.211750  15.948750  226.347500  2.862250  36.006000   \n",
       "1  42.491363  1571.955854  15.658349  552.742802  2.266795  68.639155   \n",
       "\n",
       "   previous  \n",
       "y            \n",
       "0  0.471250  \n",
       "1  1.090211  "
      ]
     },
     "execution_count": 97,
     "metadata": {},
     "output_type": "execute_result"
    }
   ],
   "source": [
    "bnk_mrktg_raw.groupby('y').mean()"
   ]
  },
  {
   "cell_type": "code",
   "execution_count": 98,
   "metadata": {},
   "outputs": [
    {
     "data": {
      "text/plain": [
       "0       0\n",
       "1       0\n",
       "2       0\n",
       "3       0\n",
       "4       0\n",
       "5       0\n",
       "6       0\n",
       "7       0\n",
       "8       0\n",
       "9       0\n",
       "10      0\n",
       "11      0\n",
       "12      0\n",
       "13      1\n",
       "14      0\n",
       "15      0\n",
       "16      0\n",
       "17      0\n",
       "18      0\n",
       "19      0\n",
       "20      0\n",
       "21      0\n",
       "22      0\n",
       "23      0\n",
       "24      0\n",
       "25      0\n",
       "26      0\n",
       "27      0\n",
       "28      0\n",
       "29      0\n",
       "       ..\n",
       "4491    0\n",
       "4492    0\n",
       "4493    0\n",
       "4494    1\n",
       "4495    0\n",
       "4496    0\n",
       "4497    0\n",
       "4498    0\n",
       "4499    0\n",
       "4500    0\n",
       "4501    0\n",
       "4502    0\n",
       "4503    1\n",
       "4504    1\n",
       "4505    1\n",
       "4506    0\n",
       "4507    0\n",
       "4508    0\n",
       "4509    0\n",
       "4510    0\n",
       "4511    1\n",
       "4512    0\n",
       "4513    0\n",
       "4514    0\n",
       "4515    0\n",
       "4516    0\n",
       "4517    0\n",
       "4518    0\n",
       "4519    0\n",
       "4520    0\n",
       "Name: y, Length: 4521, dtype: int64"
      ]
     },
     "execution_count": 98,
     "metadata": {},
     "output_type": "execute_result"
    }
   ],
   "source": [
    "bnk_mrktg_raw.y"
   ]
  },
  {
   "cell_type": "markdown",
   "metadata": {},
   "source": [
    "\n",
    "### Observations from above result.\n",
    "\n",
    "<p>\n",
    "  <li> 1. Average age is higher for customers willing to open account.\n",
    "  <li> 2. Longer the gap b/w previous contact more likly customer to open account.\n",
    "  <li> 3. longer duration of last call has more odds of opening account.\n",
    "  <li> 4. No of times customer received call.\n",
    "</p>"
   ]
  },
  {
   "cell_type": "code",
   "execution_count": 99,
   "metadata": {},
   "outputs": [
    {
     "data": {
      "image/png": "[encoded data removed]",
      "text/plain": [
       "<matplotlib.figure.Figure at 0x1144a10b8>"
      ]
     },
     "metadata": {},
     "output_type": "display_data"
    }
   ],
   "source": [
    "ax = sns.violinplot(y=\"y\", x=\"age\", data=bnk_mrktg_raw, orient='h')\n",
    "plt.title('distribution of age predictor')\n",
    "plt.ylabel('Y as 0 or 1')\n",
    "plt.xlabel('Age')\n",
    "plt.show()"
   ]
  },
  {
   "cell_type": "code",
   "execution_count": 100,
   "metadata": {},
   "outputs": [
    {
     "data": {
      "image/png": "[encoded data removed]",
      "text/plain": [
       "<matplotlib.figure.Figure at 0x115092f98>"
      ]
     },
     "metadata": {},
     "output_type": "display_data"
    },
    {
     "data": {
      "image/png": "[encoded data removed]",
      "text/plain": [
       "<matplotlib.figure.Figure at 0x117698b38>"
      ]
     },
     "metadata": {},
     "output_type": "display_data"
    },
    {
     "data": {
      "image/png": "[encoded data removed]",
      "text/plain": [
       "<matplotlib.figure.Figure at 0x11486da20>"
      ]
     },
     "metadata": {},
     "output_type": "display_data"
    }
   ],
   "source": [
    "\n",
    "ax = sns.violinplot(y=\"y\", x=\"balance\", data=bnk_mrktg_raw, orient='h')\n",
    "plt.title('general balance distribution')\n",
    "plt.show()\n",
    "\n",
    "# As violin balance plot at this level does not add any perspective.\n",
    "bnk_mrktg_raw_filtered_lt_10k = bnk_mrktg_raw[bnk_mrktg_raw.balance <= 6000]\n",
    "ax = sns.violinplot(y=\"y\", x=\"balance\", data=bnk_mrktg_raw_filtered_lt_10k, orient='h')\n",
    "plt.title('balance less than 6000 distribution')\n",
    "plt.show()\n",
    "\n",
    "\n",
    "bnk_mrktg_raw_filtered_lt_10k = bnk_mrktg_raw[bnk_mrktg_raw.balance <= 1000]\n",
    "ax = sns.violinplot(y=\"y\", x=\"balance\", data=bnk_mrktg_raw_filtered_lt_10k, orient='h')\n",
    "plt.title('balance less than 1000 distribution')\n",
    "plt.show()"
   ]
  },
  {
   "cell_type": "markdown",
   "metadata": {},
   "source": [
    "<p> <b> As we can observe from plot if balance is less then -$1500 then user tend not to open account. </p>"
   ]
  },
  {
   "cell_type": "code",
   "execution_count": 101,
   "metadata": {},
   "outputs": [
    {
     "data": {
      "image/png": "[encoded data removed]",
      "text/plain": [
       "<matplotlib.figure.Figure at 0x1148a1f28>"
      ]
     },
     "metadata": {},
     "output_type": "display_data"
    }
   ],
   "source": [
    "bnk_mrktg_raw_lt_1000 = bnk_mrktg_raw[bnk_mrktg_raw.duration < 1000]\n",
    "ax = sns.violinplot(y=\"y\", x=\"duration\", data=bnk_mrktg_raw_lt_1000, orient='h')\n",
    "plt.title('duration violinplot')\n",
    "plt.show()"
   ]
  },
  {
   "cell_type": "code",
   "execution_count": 102,
   "metadata": {},
   "outputs": [
    {
     "data": {
      "image/png": "[encoded data removed]",
      "text/plain": [
       "<matplotlib.figure.Figure at 0x1142d16d8>"
      ]
     },
     "metadata": {},
     "output_type": "display_data"
    }
   ],
   "source": [
    "ax = sns.violinplot(y=\"y\", x=\"pdays\", data=bnk_mrktg_raw[(bnk_mrktg_raw.pdays < 400) & (bnk_mrktg_raw.pdays != -1)], orient='h')\n",
    "plt.title('No.of.days that passed by after the client was last contacted from a previous campaign')\n",
    "plt.show()"
   ]
  },
  {
   "cell_type": "code",
   "execution_count": 103,
   "metadata": {},
   "outputs": [
    {
     "data": {
      "image/png": "[encoded data removed]",
      "text/plain": [
       "<matplotlib.figure.Figure at 0x117527208>"
      ]
     },
     "metadata": {},
     "output_type": "display_data"
    }
   ],
   "source": [
    "ax = sns.violinplot(y=\"y\", x=\"previous\", data=bnk_mrktg_raw, orient='h')\n",
    "plt.show()"
   ]
  },
  {
   "cell_type": "code",
   "execution_count": 104,
   "metadata": {},
   "outputs": [
    {
     "name": "stdout",
     "output_type": "stream",
     "text": [
      "No of records with pdays > 15 are \n"
     ]
    }
   ],
   "source": [
    "# All customers with pdays > 15 end up with not opening term deposits.\n",
    "print(\"No of records with pdays > 15 are \" %(bnk_mrktg_raw.pdays > 15).sum())"
   ]
  },
  {
   "cell_type": "code",
   "execution_count": 105,
   "metadata": {},
   "outputs": [
    {
     "data": {
      "image/png": "[encoded data removed]",
      "text/plain": [
       "<matplotlib.figure.Figure at 0x1174f3e10>"
      ]
     },
     "metadata": {},
     "output_type": "display_data"
    }
   ],
   "source": [
    "ax = sns.violinplot(y=\"y\", x=\"previous\", data=bnk_mrktg_raw[bnk_mrktg_raw.previous <= 5], orient='h')\n",
    "plt.show()"
   ]
  },
  {
   "cell_type": "code",
   "execution_count": 106,
   "metadata": {},
   "outputs": [
    {
     "data": {
      "text/plain": [
       "age           int64\n",
       "job          object\n",
       "marital      object\n",
       "education    object\n",
       "default      object\n",
       "balance       int64\n",
       "housing      object\n",
       "loan         object\n",
       "contact      object\n",
       "day           int64\n",
       "month        object\n",
       "duration      int64\n",
       "campaign      int64\n",
       "pdays         int64\n",
       "previous      int64\n",
       "poutcome     object\n",
       "y             int64\n",
       "dtype: object"
      ]
     },
     "execution_count": 106,
     "metadata": {},
     "output_type": "execute_result"
    }
   ],
   "source": [
    "bnk_mrktg_raw.dtypes"
   ]
  },
  {
   "cell_type": "markdown",
   "metadata": {},
   "source": [
    "<p> All objects with object types are categorical values i.e 9 out of 18.<p>"
   ]
  },
  {
   "cell_type": "code",
   "execution_count": 107,
   "metadata": {},
   "outputs": [
    {
     "data": {
      "image/png": "[encoded data removed]",
      "text/plain": [
       "<matplotlib.figure.Figure at 0x117313f98>"
      ]
     },
     "metadata": {},
     "output_type": "display_data"
    }
   ],
   "source": [
    "sns.countplot(x=\"month\",data=bnk_mrktg_raw, order = ['jan','feb','mar','apr','may','jun','jul','aug','sep','oct','nov','dec'])\n",
    "plt.rcParams[\"xtick.labelsize\"] = 10\n",
    "plt.xticks(rotation=30)\n",
    "plt.show()"
   ]
  },
  {
   "cell_type": "code",
   "execution_count": 108,
   "metadata": {},
   "outputs": [
    {
     "data": {
      "image/png": "[encoded data removed]",
      "text/plain": [
       "<matplotlib.figure.Figure at 0x1148cbb38>"
      ]
     },
     "metadata": {},
     "output_type": "display_data"
    }
   ],
   "source": [
    "bnk_mrktg_raw_y_as_yes = bnk_mrktg_raw[bnk_mrktg_raw.y==1].groupby('month')['y'].count()\n",
    "bnk_mrktg_raw_y_as_cnt = bnk_mrktg_raw.groupby('month')['y'].count()\n",
    "\n",
    "mnth_prcnt_cnt = (bnk_mrktg_raw_y_as_yes/bnk_mrktg_raw_y_as_cnt) * 100\n",
    "\n",
    "sns.barplot( mnth_prcnt_cnt.keys(),mnth_prcnt_cnt.values\n",
    "           ,order = ['jan', 'feb', 'mar', 'apr', 'may','jun', 'jul', 'aug', 'sep', 'oct', 'nov', 'dec'], orient = 'v' )\n",
    "\n",
    "plt.title(\"Customers to OPEN account in percentage of total calls\")\n",
    "plt.show()"
   ]
  },
  {
   "cell_type": "code",
   "execution_count": 109,
   "metadata": {},
   "outputs": [
    {
     "data": {
      "image/png": "[encoded data removed]",
      "text/plain": [
       "<matplotlib.figure.Figure at 0x114d2a438>"
      ]
     },
     "metadata": {},
     "output_type": "display_data"
    }
   ],
   "source": [
    "bnk_mrktg_raw_y_as_no = bnk_mrktg_raw[bnk_mrktg_raw.y==0].groupby('month')['y'].count()\n",
    "bnk_mrktg_raw_y_as_cnt = bnk_mrktg_raw.groupby('month')['y'].count()\n",
    "\n",
    "mnth_prcnt_cnt = (bnk_mrktg_raw_y_as_no/bnk_mrktg_raw_y_as_cnt) * 100\n",
    "\n",
    "sns.barplot( mnth_prcnt_cnt.keys(),mnth_prcnt_cnt.values\n",
    "           ,order = ['jan', 'feb', 'mar', 'apr', 'may','jun', 'jul', 'aug', 'sep', 'oct', 'nov', 'dec'], orient = 'v' )\n",
    "\n",
    "plt.title(\"Customers Not open account in percentage of total calls\")\n",
    "plt.show()"
   ]
  },
  {
   "cell_type": "code",
   "execution_count": 20,
   "metadata": {},
   "outputs": [],
   "source": [
    "# Convert categorical values to individual features for better fit our Model. \n",
    "# we are going to use One Hot Encoding. \n",
    "# We will verify which parameters validation works using corelation coeffficent at later stages. (dimensionality reduction)\n",
    "# refer. http://pbpython.com/categorical-encoding.html \n",
    "\n",
    "# create hot encoding for below attributes.\n",
    "bnk_mrktg_raw_encoded =  pd.get_dummies(bnk_mrktg_raw,columns=['education','job','housing','day','marital', \\\n",
    "                                                               'poutcome','default','loan','contact','month'])\n",
    "\n"
   ]
  },
  {
   "cell_type": "code",
   "execution_count": 21,
   "metadata": {},
   "outputs": [],
   "source": [
    "target_val = bnk_mrktg_raw_encoded['y'] # extract prediction from dataset.\n",
    "bnk_mrktg_raw_encoded = bnk_mrktg_raw_encoded.drop('y', axis=1) # drop predictor from dataset."
   ]
  },
  {
   "cell_type": "code",
   "execution_count": 110,
   "metadata": {},
   "outputs": [
    {
     "data": {
      "text/plain": [
       "Index(['age', 'balance', 'duration', 'campaign', 'pdays', 'previous',\n",
       "       'education_primary', 'education_secondary', 'education_tertiary',\n",
       "       'education_unknown', 'job_admin.', 'job_blue-collar',\n",
       "       'job_entrepreneur', 'job_housemaid', 'job_management', 'job_retired',\n",
       "       'job_self-employed', 'job_services', 'job_student', 'job_technician',\n",
       "       'job_unemployed', 'job_unknown', 'housing_no', 'housing_yes', 'day_1',\n",
       "       'day_2', 'day_3', 'day_4', 'day_5', 'day_6', 'day_7', 'day_8', 'day_9',\n",
       "       'day_10', 'day_11', 'day_12', 'day_13', 'day_14', 'day_15', 'day_16',\n",
       "       'day_17', 'day_18', 'day_19', 'day_20', 'day_21', 'day_22', 'day_23',\n",
       "       'day_24', 'day_25', 'day_26', 'day_27', 'day_28', 'day_29', 'day_30',\n",
       "       'day_31', 'marital_divorced', 'marital_married', 'marital_single',\n",
       "       'poutcome_failure', 'poutcome_other', 'poutcome_success',\n",
       "       'poutcome_unknown', 'default_no', 'default_yes', 'loan_no', 'loan_yes',\n",
       "       'contact_cellular', 'contact_telephone', 'contact_unknown', 'month_apr',\n",
       "       'month_aug', 'month_dec', 'month_feb', 'month_jan', 'month_jul',\n",
       "       'month_jun', 'month_mar', 'month_may', 'month_nov', 'month_oct',\n",
       "       'month_sep'],\n",
       "      dtype='object')"
      ]
     },
     "execution_count": 110,
     "metadata": {},
     "output_type": "execute_result"
    }
   ],
   "source": [
    "bnk_mrktg_raw_encoded.columns"
   ]
  },
  {
   "cell_type": "code",
   "execution_count": 112,
   "metadata": {},
   "outputs": [
    {
     "name": "stdout",
     "output_type": "stream",
     "text": [
      "Optimization terminated successfully.\n",
      "         Current function value: 0.234827\n",
      "         Iterations 12\n"
     ]
    }
   ],
   "source": [
    "from pandas.core import datetools\n",
    "import statsmodels.api as sm\n",
    "from scipy import stats\n",
    "#stats.chisqprob = lambda chisq, df: stats.chi2.sf(chisq, df)\n",
    "\n",
    "logit = sm.Logit(target_val, bnk_mrktg_raw_encoded)\n",
    "\n",
    "result = logit.fit()"
   ]
  },
  {
   "cell_type": "code",
   "execution_count": 111,
   "metadata": {
    "scrolled": false
   },
   "outputs": [
    {
     "name": "stderr",
     "output_type": "stream",
     "text": [
      "/Library/Frameworks/Python.framework/Versions/3.5/lib/python3.5/site-packages/statsmodels/base/model.py:1029: RuntimeWarning: invalid value encountered in sqrt\n",
      "  return np.sqrt(np.diag(self.cov_params()))\n",
      "/Library/Frameworks/Python.framework/Versions/3.5/lib/python3.5/site-packages/scipy/stats/_distn_infrastructure.py:879: RuntimeWarning: invalid value encountered in greater\n",
      "  return (self.a < x) & (x < self.b)\n",
      "/Library/Frameworks/Python.framework/Versions/3.5/lib/python3.5/site-packages/scipy/stats/_distn_infrastructure.py:879: RuntimeWarning: invalid value encountered in less\n",
      "  return (self.a < x) & (x < self.b)\n",
      "/Library/Frameworks/Python.framework/Versions/3.5/lib/python3.5/site-packages/scipy/stats/_distn_infrastructure.py:1821: RuntimeWarning: invalid value encountered in less_equal\n",
      "  cond2 = cond0 & (x <= self.a)\n"
     ]
    },
    {
     "data": {
      "text/html": [
       "<table class=\"simpletable\">\n",
       "<caption>Logit Regression Results</caption>\n",
       "<tr>\n",
       "  <th>Dep. Variable:</th>         <td>y</td>        <th>  No. Observations:  </th>   <td>  4521</td>  \n",
       "</tr>\n",
       "<tr>\n",
       "  <th>Model:</th>               <td>Logit</td>      <th>  Df Residuals:      </th>   <td>  4449</td>  \n",
       "</tr>\n",
       "<tr>\n",
       "  <th>Method:</th>               <td>MLE</td>       <th>  Df Model:          </th>   <td>    71</td>  \n",
       "</tr>\n",
       "<tr>\n",
       "  <th>Date:</th>          <td>Sat, 24 Mar 2018</td> <th>  Pseudo R-squ.:     </th>   <td>0.3428</td>  \n",
       "</tr>\n",
       "<tr>\n",
       "  <th>Time:</th>              <td>19:08:47</td>     <th>  Log-Likelihood:    </th>  <td> -1061.7</td> \n",
       "</tr>\n",
       "<tr>\n",
       "  <th>converged:</th>           <td>True</td>       <th>  LL-Null:           </th>  <td> -1615.5</td> \n",
       "</tr>\n",
       "<tr>\n",
       "  <th> </th>                      <td> </td>        <th>  LLR p-value:       </th> <td>7.957e-186</td>\n",
       "</tr>\n",
       "</table>\n",
       "<table class=\"simpletable\">\n",
       "<tr>\n",
       "           <td></td>              <th>coef</th>     <th>std err</th>      <th>z</th>      <th>P>|z|</th>  <th>[0.025</th>    <th>0.975]</th>  \n",
       "</tr>\n",
       "<tr>\n",
       "  <th>age</th>                 <td>   -0.0053</td> <td>    0.007</td> <td>   -0.733</td> <td> 0.464</td> <td>   -0.019</td> <td>    0.009</td>\n",
       "</tr>\n",
       "<tr>\n",
       "  <th>balance</th>             <td> -4.74e-06</td> <td> 1.79e-05</td> <td>   -0.264</td> <td> 0.792</td> <td>-3.99e-05</td> <td> 3.04e-05</td>\n",
       "</tr>\n",
       "<tr>\n",
       "  <th>duration</th>            <td>    0.0043</td> <td>    0.000</td> <td>   20.758</td> <td> 0.000</td> <td>    0.004</td> <td>    0.005</td>\n",
       "</tr>\n",
       "<tr>\n",
       "  <th>campaign</th>            <td>   -0.0764</td> <td>    0.029</td> <td>   -2.651</td> <td> 0.008</td> <td>   -0.133</td> <td>   -0.020</td>\n",
       "</tr>\n",
       "<tr>\n",
       "  <th>pdays</th>               <td>    0.0001</td> <td>    0.001</td> <td>    0.116</td> <td> 0.908</td> <td>   -0.002</td> <td>    0.002</td>\n",
       "</tr>\n",
       "<tr>\n",
       "  <th>previous</th>            <td>   -0.0188</td> <td>    0.040</td> <td>   -0.472</td> <td> 0.637</td> <td>   -0.097</td> <td>    0.059</td>\n",
       "</tr>\n",
       "<tr>\n",
       "  <th>education_primary</th>   <td>   -0.3757</td> <td> 3.24e+06</td> <td>-1.16e-07</td> <td> 1.000</td> <td>-6.34e+06</td> <td> 6.34e+06</td>\n",
       "</tr>\n",
       "<tr>\n",
       "  <th>education_secondary</th> <td>   -0.3220</td> <td> 3.47e+06</td> <td>-9.27e-08</td> <td> 1.000</td> <td>-6.81e+06</td> <td> 6.81e+06</td>\n",
       "</tr>\n",
       "<tr>\n",
       "  <th>education_tertiary</th>  <td>   -0.1045</td> <td> 3.28e+06</td> <td>-3.18e-08</td> <td> 1.000</td> <td>-6.44e+06</td> <td> 6.44e+06</td>\n",
       "</tr>\n",
       "<tr>\n",
       "  <th>education_unknown</th>   <td>   -0.7881</td> <td> 3.57e+06</td> <td>-2.21e-07</td> <td> 1.000</td> <td>-6.99e+06</td> <td> 6.99e+06</td>\n",
       "</tr>\n",
       "<tr>\n",
       "  <th>job_admin.</th>          <td>   -0.1038</td> <td>  4.1e+06</td> <td>-2.53e-08</td> <td> 1.000</td> <td>-8.03e+06</td> <td> 8.03e+06</td>\n",
       "</tr>\n",
       "<tr>\n",
       "  <th>job_blue-collar</th>     <td>   -0.4938</td> <td> 3.93e+06</td> <td>-1.26e-07</td> <td> 1.000</td> <td> -7.7e+06</td> <td>  7.7e+06</td>\n",
       "</tr>\n",
       "<tr>\n",
       "  <th>job_entrepreneur</th>    <td>   -0.3461</td> <td> 3.88e+06</td> <td>-8.93e-08</td> <td> 1.000</td> <td> -7.6e+06</td> <td>  7.6e+06</td>\n",
       "</tr>\n",
       "<tr>\n",
       "  <th>job_housemaid</th>       <td>   -0.5389</td> <td> 4.07e+06</td> <td>-1.32e-07</td> <td> 1.000</td> <td>-7.97e+06</td> <td> 7.97e+06</td>\n",
       "</tr>\n",
       "<tr>\n",
       "  <th>job_management</th>      <td>   -0.1570</td> <td>  4.5e+06</td> <td>-3.49e-08</td> <td> 1.000</td> <td>-8.81e+06</td> <td> 8.81e+06</td>\n",
       "</tr>\n",
       "<tr>\n",
       "  <th>job_retired</th>         <td>    0.5077</td> <td> 4.28e+06</td> <td> 1.19e-07</td> <td> 1.000</td> <td>-8.38e+06</td> <td> 8.38e+06</td>\n",
       "</tr>\n",
       "<tr>\n",
       "  <th>job_self-employed</th>   <td>   -0.1998</td> <td>    4e+06</td> <td>   -5e-08</td> <td> 1.000</td> <td>-7.84e+06</td> <td> 7.84e+06</td>\n",
       "</tr>\n",
       "<tr>\n",
       "  <th>job_services</th>        <td>   -0.2453</td> <td> 4.44e+06</td> <td>-5.52e-08</td> <td> 1.000</td> <td> -8.7e+06</td> <td>  8.7e+06</td>\n",
       "</tr>\n",
       "<tr>\n",
       "  <th>job_student</th>         <td>    0.3120</td> <td> 3.87e+06</td> <td> 8.06e-08</td> <td> 1.000</td> <td>-7.58e+06</td> <td> 7.58e+06</td>\n",
       "</tr>\n",
       "<tr>\n",
       "  <th>job_technician</th>      <td>   -0.3295</td> <td> 4.48e+06</td> <td>-7.35e-08</td> <td> 1.000</td> <td>-8.79e+06</td> <td> 8.79e+06</td>\n",
       "</tr>\n",
       "<tr>\n",
       "  <th>job_unemployed</th>      <td>   -0.8298</td> <td> 4.54e+06</td> <td>-1.83e-07</td> <td> 1.000</td> <td>-8.89e+06</td> <td> 8.89e+06</td>\n",
       "</tr>\n",
       "<tr>\n",
       "  <th>job_unknown</th>         <td>    0.4850</td> <td> 4.46e+06</td> <td> 1.09e-07</td> <td> 1.000</td> <td>-8.74e+06</td> <td> 8.74e+06</td>\n",
       "</tr>\n",
       "<tr>\n",
       "  <th>housing_no</th>          <td>    0.0235</td> <td> 8.71e+06</td> <td>  2.7e-09</td> <td> 1.000</td> <td>-1.71e+07</td> <td> 1.71e+07</td>\n",
       "</tr>\n",
       "<tr>\n",
       "  <th>housing_yes</th>         <td>   -0.1982</td> <td>  9.6e+06</td> <td>-2.06e-08</td> <td> 1.000</td> <td>-1.88e+07</td> <td> 1.88e+07</td>\n",
       "</tr>\n",
       "<tr>\n",
       "  <th>day_1</th>               <td>    0.9999</td> <td>      nan</td> <td>      nan</td> <td>   nan</td> <td>      nan</td> <td>      nan</td>\n",
       "</tr>\n",
       "<tr>\n",
       "  <th>day_2</th>               <td>   -0.0223</td> <td>      nan</td> <td>      nan</td> <td>   nan</td> <td>      nan</td> <td>      nan</td>\n",
       "</tr>\n",
       "<tr>\n",
       "  <th>day_3</th>               <td>   -0.2292</td> <td>      nan</td> <td>      nan</td> <td>   nan</td> <td>      nan</td> <td>      nan</td>\n",
       "</tr>\n",
       "<tr>\n",
       "  <th>day_4</th>               <td>   -0.3866</td> <td>      nan</td> <td>      nan</td> <td>   nan</td> <td>      nan</td> <td>      nan</td>\n",
       "</tr>\n",
       "<tr>\n",
       "  <th>day_5</th>               <td>   -0.0486</td> <td>      nan</td> <td>      nan</td> <td>   nan</td> <td>      nan</td> <td>      nan</td>\n",
       "</tr>\n",
       "<tr>\n",
       "  <th>day_6</th>               <td>   -0.5089</td> <td>      nan</td> <td>      nan</td> <td>   nan</td> <td>      nan</td> <td>      nan</td>\n",
       "</tr>\n",
       "<tr>\n",
       "  <th>day_7</th>               <td>   -0.8592</td> <td>      nan</td> <td>      nan</td> <td>   nan</td> <td>      nan</td> <td>      nan</td>\n",
       "</tr>\n",
       "<tr>\n",
       "  <th>day_8</th>               <td>   -0.6072</td> <td>      nan</td> <td>      nan</td> <td>   nan</td> <td>      nan</td> <td>      nan</td>\n",
       "</tr>\n",
       "<tr>\n",
       "  <th>day_9</th>               <td>   -0.2569</td> <td>      nan</td> <td>      nan</td> <td>   nan</td> <td>      nan</td> <td>      nan</td>\n",
       "</tr>\n",
       "<tr>\n",
       "  <th>day_10</th>              <td>    0.7569</td> <td>      nan</td> <td>      nan</td> <td>   nan</td> <td>      nan</td> <td>      nan</td>\n",
       "</tr>\n",
       "<tr>\n",
       "  <th>day_11</th>              <td>   -0.2128</td> <td>      nan</td> <td>      nan</td> <td>   nan</td> <td>      nan</td> <td>      nan</td>\n",
       "</tr>\n",
       "<tr>\n",
       "  <th>day_12</th>              <td>    0.2068</td> <td>      nan</td> <td>      nan</td> <td>   nan</td> <td>      nan</td> <td>      nan</td>\n",
       "</tr>\n",
       "<tr>\n",
       "  <th>day_13</th>              <td>    0.1715</td> <td>      nan</td> <td>      nan</td> <td>   nan</td> <td>      nan</td> <td>      nan</td>\n",
       "</tr>\n",
       "<tr>\n",
       "  <th>day_14</th>              <td>   -0.3523</td> <td>      nan</td> <td>      nan</td> <td>   nan</td> <td>      nan</td> <td>      nan</td>\n",
       "</tr>\n",
       "<tr>\n",
       "  <th>day_15</th>              <td>    0.1609</td> <td>      nan</td> <td>      nan</td> <td>   nan</td> <td>      nan</td> <td>      nan</td>\n",
       "</tr>\n",
       "<tr>\n",
       "  <th>day_16</th>              <td>   -0.1356</td> <td>      nan</td> <td>      nan</td> <td>   nan</td> <td>      nan</td> <td>      nan</td>\n",
       "</tr>\n",
       "<tr>\n",
       "  <th>day_17</th>              <td>   -0.7913</td> <td>      nan</td> <td>      nan</td> <td>   nan</td> <td>      nan</td> <td>      nan</td>\n",
       "</tr>\n",
       "<tr>\n",
       "  <th>day_18</th>              <td>    0.3326</td> <td>      nan</td> <td>      nan</td> <td>   nan</td> <td>      nan</td> <td>      nan</td>\n",
       "</tr>\n",
       "<tr>\n",
       "  <th>day_19</th>              <td>   -0.6143</td> <td>      nan</td> <td>      nan</td> <td>   nan</td> <td>      nan</td> <td>      nan</td>\n",
       "</tr>\n",
       "<tr>\n",
       "  <th>day_20</th>              <td>   -0.9251</td> <td>      nan</td> <td>      nan</td> <td>   nan</td> <td>      nan</td> <td>      nan</td>\n",
       "</tr>\n",
       "<tr>\n",
       "  <th>day_21</th>              <td>    0.2845</td> <td>      nan</td> <td>      nan</td> <td>   nan</td> <td>      nan</td> <td>      nan</td>\n",
       "</tr>\n",
       "<tr>\n",
       "  <th>day_22</th>              <td>    0.2056</td> <td>      nan</td> <td>      nan</td> <td>   nan</td> <td>      nan</td> <td>      nan</td>\n",
       "</tr>\n",
       "<tr>\n",
       "  <th>day_23</th>              <td>   -0.0207</td> <td>      nan</td> <td>      nan</td> <td>   nan</td> <td>      nan</td> <td>      nan</td>\n",
       "</tr>\n",
       "<tr>\n",
       "  <th>day_24</th>              <td>    0.4782</td> <td>      nan</td> <td>      nan</td> <td>   nan</td> <td>      nan</td> <td>      nan</td>\n",
       "</tr>\n",
       "<tr>\n",
       "  <th>day_25</th>              <td>    0.5782</td> <td>      nan</td> <td>      nan</td> <td>   nan</td> <td>      nan</td> <td>      nan</td>\n",
       "</tr>\n",
       "<tr>\n",
       "  <th>day_26</th>              <td>    0.0863</td> <td>      nan</td> <td>      nan</td> <td>   nan</td> <td>      nan</td> <td>      nan</td>\n",
       "</tr>\n",
       "<tr>\n",
       "  <th>day_27</th>              <td>    0.2815</td> <td>      nan</td> <td>      nan</td> <td>   nan</td> <td>      nan</td> <td>      nan</td>\n",
       "</tr>\n",
       "<tr>\n",
       "  <th>day_28</th>              <td>    0.3088</td> <td>      nan</td> <td>      nan</td> <td>   nan</td> <td>      nan</td> <td>      nan</td>\n",
       "</tr>\n",
       "<tr>\n",
       "  <th>day_29</th>              <td>   -0.5393</td> <td>      nan</td> <td>      nan</td> <td>   nan</td> <td>      nan</td> <td>      nan</td>\n",
       "</tr>\n",
       "<tr>\n",
       "  <th>day_30</th>              <td>    0.4207</td> <td>      nan</td> <td>      nan</td> <td>   nan</td> <td>      nan</td> <td>      nan</td>\n",
       "</tr>\n",
       "<tr>\n",
       "  <th>day_31</th>              <td>   -0.4322</td> <td>      nan</td> <td>      nan</td> <td>   nan</td> <td>      nan</td> <td>      nan</td>\n",
       "</tr>\n",
       "<tr>\n",
       "  <th>marital_divorced</th>    <td>   -0.0029</td> <td> 1.91e+06</td> <td> -1.5e-09</td> <td> 1.000</td> <td>-3.74e+06</td> <td> 3.74e+06</td>\n",
       "</tr>\n",
       "<tr>\n",
       "  <th>marital_married</th>     <td>   -0.4736</td> <td> 1.77e+06</td> <td>-2.67e-07</td> <td> 1.000</td> <td>-3.47e+06</td> <td> 3.47e+06</td>\n",
       "</tr>\n",
       "<tr>\n",
       "  <th>marital_single</th>      <td>   -0.3327</td> <td> 1.79e+06</td> <td>-1.85e-07</td> <td> 1.000</td> <td>-3.52e+06</td> <td> 3.52e+06</td>\n",
       "</tr>\n",
       "<tr>\n",
       "  <th>poutcome_failure</th>    <td>   -0.8953</td> <td>  3.4e+06</td> <td>-2.64e-07</td> <td> 1.000</td> <td>-6.65e+06</td> <td> 6.65e+06</td>\n",
       "</tr>\n",
       "<tr>\n",
       "  <th>poutcome_other</th>      <td>   -0.4000</td> <td> 3.75e+06</td> <td>-1.07e-07</td> <td> 1.000</td> <td>-7.35e+06</td> <td> 7.35e+06</td>\n",
       "</tr>\n",
       "<tr>\n",
       "  <th>poutcome_success</th>    <td>    1.5248</td> <td> 4.22e+06</td> <td> 3.61e-07</td> <td> 1.000</td> <td>-8.27e+06</td> <td> 8.27e+06</td>\n",
       "</tr>\n",
       "<tr>\n",
       "  <th>poutcome_unknown</th>    <td>   -1.0386</td> <td> 3.63e+06</td> <td>-2.86e-07</td> <td> 1.000</td> <td>-7.11e+06</td> <td> 7.11e+06</td>\n",
       "</tr>\n",
       "<tr>\n",
       "  <th>default_no</th>          <td>   -0.6353</td> <td>      nan</td> <td>      nan</td> <td>   nan</td> <td>      nan</td> <td>      nan</td>\n",
       "</tr>\n",
       "<tr>\n",
       "  <th>default_yes</th>         <td>   -0.1738</td> <td>      nan</td> <td>      nan</td> <td>   nan</td> <td>      nan</td> <td>      nan</td>\n",
       "</tr>\n",
       "<tr>\n",
       "  <th>loan_no</th>             <td>   -0.0852</td> <td>      nan</td> <td>      nan</td> <td>   nan</td> <td>      nan</td> <td>      nan</td>\n",
       "</tr>\n",
       "<tr>\n",
       "  <th>loan_yes</th>            <td>   -0.7239</td> <td>      nan</td> <td>      nan</td> <td>   nan</td> <td>      nan</td> <td>      nan</td>\n",
       "</tr>\n",
       "<tr>\n",
       "  <th>contact_cellular</th>    <td>    0.1516</td> <td> 7.89e+06</td> <td> 1.92e-08</td> <td> 1.000</td> <td>-1.55e+07</td> <td> 1.55e+07</td>\n",
       "</tr>\n",
       "<tr>\n",
       "  <th>contact_telephone</th>   <td>    0.1331</td> <td> 7.89e+06</td> <td> 1.69e-08</td> <td> 1.000</td> <td>-1.55e+07</td> <td> 1.55e+07</td>\n",
       "</tr>\n",
       "<tr>\n",
       "  <th>contact_unknown</th>     <td>   -1.0938</td> <td> 7.89e+06</td> <td>-1.39e-07</td> <td> 1.000</td> <td>-1.55e+07</td> <td> 1.55e+07</td>\n",
       "</tr>\n",
       "<tr>\n",
       "  <th>month_apr</th>           <td>    0.0417</td> <td> 1.86e+07</td> <td> 2.24e-09</td> <td> 1.000</td> <td>-3.65e+07</td> <td> 3.65e+07</td>\n",
       "</tr>\n",
       "<tr>\n",
       "  <th>month_aug</th>           <td>   -0.3749</td> <td> 1.86e+07</td> <td>-2.02e-08</td> <td> 1.000</td> <td>-3.65e+07</td> <td> 3.65e+07</td>\n",
       "</tr>\n",
       "<tr>\n",
       "  <th>month_dec</th>           <td>   -0.0620</td> <td> 1.86e+07</td> <td>-3.33e-09</td> <td> 1.000</td> <td>-3.65e+07</td> <td> 3.65e+07</td>\n",
       "</tr>\n",
       "<tr>\n",
       "  <th>month_feb</th>           <td>    0.0177</td> <td> 1.86e+07</td> <td> 9.51e-10</td> <td> 1.000</td> <td>-3.65e+07</td> <td> 3.65e+07</td>\n",
       "</tr>\n",
       "<tr>\n",
       "  <th>month_jan</th>           <td>   -1.2101</td> <td> 1.86e+07</td> <td>-6.51e-08</td> <td> 1.000</td> <td>-3.65e+07</td> <td> 3.65e+07</td>\n",
       "</tr>\n",
       "<tr>\n",
       "  <th>month_jul</th>           <td>   -0.9325</td> <td> 1.86e+07</td> <td>-5.01e-08</td> <td> 1.000</td> <td>-3.65e+07</td> <td> 3.65e+07</td>\n",
       "</tr>\n",
       "<tr>\n",
       "  <th>month_jun</th>           <td>    0.2579</td> <td> 1.86e+07</td> <td> 1.39e-08</td> <td> 1.000</td> <td>-3.65e+07</td> <td> 3.65e+07</td>\n",
       "</tr>\n",
       "<tr>\n",
       "  <th>month_mar</th>           <td>    1.1890</td> <td> 1.86e+07</td> <td> 6.39e-08</td> <td> 1.000</td> <td>-3.65e+07</td> <td> 3.65e+07</td>\n",
       "</tr>\n",
       "<tr>\n",
       "  <th>month_may</th>           <td>   -0.7259</td> <td> 1.86e+07</td> <td> -3.9e-08</td> <td> 1.000</td> <td>-3.65e+07</td> <td> 3.65e+07</td>\n",
       "</tr>\n",
       "<tr>\n",
       "  <th>month_nov</th>           <td>   -0.8463</td> <td> 1.86e+07</td> <td>-4.55e-08</td> <td> 1.000</td> <td>-3.65e+07</td> <td> 3.65e+07</td>\n",
       "</tr>\n",
       "<tr>\n",
       "  <th>month_oct</th>           <td>    1.3983</td> <td> 1.86e+07</td> <td> 7.52e-08</td> <td> 1.000</td> <td>-3.65e+07</td> <td> 3.65e+07</td>\n",
       "</tr>\n",
       "<tr>\n",
       "  <th>month_sep</th>           <td>    0.4380</td> <td> 1.86e+07</td> <td> 2.35e-08</td> <td> 1.000</td> <td>-3.65e+07</td> <td> 3.65e+07</td>\n",
       "</tr>\n",
       "</table>"
      ],
      "text/plain": [
       "<class 'statsmodels.iolib.summary.Summary'>\n",
       "\"\"\"\n",
       "                           Logit Regression Results                           \n",
       "==============================================================================\n",
       "Dep. Variable:                      y   No. Observations:                 4521\n",
       "Model:                          Logit   Df Residuals:                     4449\n",
       "Method:                           MLE   Df Model:                           71\n",
       "Date:                Sat, 24 Mar 2018   Pseudo R-squ.:                  0.3428\n",
       "Time:                        19:08:47   Log-Likelihood:                -1061.7\n",
       "converged:                       True   LL-Null:                       -1615.5\n",
       "                                        LLR p-value:                7.957e-186\n",
       "=======================================================================================\n",
       "                          coef    std err          z      P>|z|      [0.025      0.975]\n",
       "---------------------------------------------------------------------------------------\n",
       "age                    -0.0053      0.007     -0.733      0.464      -0.019       0.009\n",
       "balance              -4.74e-06   1.79e-05     -0.264      0.792   -3.99e-05    3.04e-05\n",
       "duration                0.0043      0.000     20.758      0.000       0.004       0.005\n",
       "campaign               -0.0764      0.029     -2.651      0.008      -0.133      -0.020\n",
       "pdays                   0.0001      0.001      0.116      0.908      -0.002       0.002\n",
       "previous               -0.0188      0.040     -0.472      0.637      -0.097       0.059\n",
       "education_primary      -0.3757   3.24e+06  -1.16e-07      1.000   -6.34e+06    6.34e+06\n",
       "education_secondary    -0.3220   3.47e+06  -9.27e-08      1.000   -6.81e+06    6.81e+06\n",
       "education_tertiary     -0.1045   3.28e+06  -3.18e-08      1.000   -6.44e+06    6.44e+06\n",
       "education_unknown      -0.7881   3.57e+06  -2.21e-07      1.000   -6.99e+06    6.99e+06\n",
       "job_admin.             -0.1038    4.1e+06  -2.53e-08      1.000   -8.03e+06    8.03e+06\n",
       "job_blue-collar        -0.4938   3.93e+06  -1.26e-07      1.000    -7.7e+06     7.7e+06\n",
       "job_entrepreneur       -0.3461   3.88e+06  -8.93e-08      1.000    -7.6e+06     7.6e+06\n",
       "job_housemaid          -0.5389   4.07e+06  -1.32e-07      1.000   -7.97e+06    7.97e+06\n",
       "job_management         -0.1570    4.5e+06  -3.49e-08      1.000   -8.81e+06    8.81e+06\n",
       "job_retired             0.5077   4.28e+06   1.19e-07      1.000   -8.38e+06    8.38e+06\n",
       "job_self-employed      -0.1998      4e+06     -5e-08      1.000   -7.84e+06    7.84e+06\n",
       "job_services           -0.2453   4.44e+06  -5.52e-08      1.000    -8.7e+06     8.7e+06\n",
       "job_student             0.3120   3.87e+06   8.06e-08      1.000   -7.58e+06    7.58e+06\n",
       "job_technician         -0.3295   4.48e+06  -7.35e-08      1.000   -8.79e+06    8.79e+06\n",
       "job_unemployed         -0.8298   4.54e+06  -1.83e-07      1.000   -8.89e+06    8.89e+06\n",
       "job_unknown             0.4850   4.46e+06   1.09e-07      1.000   -8.74e+06    8.74e+06\n",
       "housing_no              0.0235   8.71e+06    2.7e-09      1.000   -1.71e+07    1.71e+07\n",
       "housing_yes            -0.1982    9.6e+06  -2.06e-08      1.000   -1.88e+07    1.88e+07\n",
       "day_1                   0.9999        nan        nan        nan         nan         nan\n",
       "day_2                  -0.0223        nan        nan        nan         nan         nan\n",
       "day_3                  -0.2292        nan        nan        nan         nan         nan\n",
       "day_4                  -0.3866        nan        nan        nan         nan         nan\n",
       "day_5                  -0.0486        nan        nan        nan         nan         nan\n",
       "day_6                  -0.5089        nan        nan        nan         nan         nan\n",
       "day_7                  -0.8592        nan        nan        nan         nan         nan\n",
       "day_8                  -0.6072        nan        nan        nan         nan         nan\n",
       "day_9                  -0.2569        nan        nan        nan         nan         nan\n",
       "day_10                  0.7569        nan        nan        nan         nan         nan\n",
       "day_11                 -0.2128        nan        nan        nan         nan         nan\n",
       "day_12                  0.2068        nan        nan        nan         nan         nan\n",
       "day_13                  0.1715        nan        nan        nan         nan         nan\n",
       "day_14                 -0.3523        nan        nan        nan         nan         nan\n",
       "day_15                  0.1609        nan        nan        nan         nan         nan\n",
       "day_16                 -0.1356        nan        nan        nan         nan         nan\n",
       "day_17                 -0.7913        nan        nan        nan         nan         nan\n",
       "day_18                  0.3326        nan        nan        nan         nan         nan\n",
       "day_19                 -0.6143        nan        nan        nan         nan         nan\n",
       "day_20                 -0.9251        nan        nan        nan         nan         nan\n",
       "day_21                  0.2845        nan        nan        nan         nan         nan\n",
       "day_22                  0.2056        nan        nan        nan         nan         nan\n",
       "day_23                 -0.0207        nan        nan        nan         nan         nan\n",
       "day_24                  0.4782        nan        nan        nan         nan         nan\n",
       "day_25                  0.5782        nan        nan        nan         nan         nan\n",
       "day_26                  0.0863        nan        nan        nan         nan         nan\n",
       "day_27                  0.2815        nan        nan        nan         nan         nan\n",
       "day_28                  0.3088        nan        nan        nan         nan         nan\n",
       "day_29                 -0.5393        nan        nan        nan         nan         nan\n",
       "day_30                  0.4207        nan        nan        nan         nan         nan\n",
       "day_31                 -0.4322        nan        nan        nan         nan         nan\n",
       "marital_divorced       -0.0029   1.91e+06   -1.5e-09      1.000   -3.74e+06    3.74e+06\n",
       "marital_married        -0.4736   1.77e+06  -2.67e-07      1.000   -3.47e+06    3.47e+06\n",
       "marital_single         -0.3327   1.79e+06  -1.85e-07      1.000   -3.52e+06    3.52e+06\n",
       "poutcome_failure       -0.8953    3.4e+06  -2.64e-07      1.000   -6.65e+06    6.65e+06\n",
       "poutcome_other         -0.4000   3.75e+06  -1.07e-07      1.000   -7.35e+06    7.35e+06\n",
       "poutcome_success        1.5248   4.22e+06   3.61e-07      1.000   -8.27e+06    8.27e+06\n",
       "poutcome_unknown       -1.0386   3.63e+06  -2.86e-07      1.000   -7.11e+06    7.11e+06\n",
       "default_no             -0.6353        nan        nan        nan         nan         nan\n",
       "default_yes            -0.1738        nan        nan        nan         nan         nan\n",
       "loan_no                -0.0852        nan        nan        nan         nan         nan\n",
       "loan_yes               -0.7239        nan        nan        nan         nan         nan\n",
       "contact_cellular        0.1516   7.89e+06   1.92e-08      1.000   -1.55e+07    1.55e+07\n",
       "contact_telephone       0.1331   7.89e+06   1.69e-08      1.000   -1.55e+07    1.55e+07\n",
       "contact_unknown        -1.0938   7.89e+06  -1.39e-07      1.000   -1.55e+07    1.55e+07\n",
       "month_apr               0.0417   1.86e+07   2.24e-09      1.000   -3.65e+07    3.65e+07\n",
       "month_aug              -0.3749   1.86e+07  -2.02e-08      1.000   -3.65e+07    3.65e+07\n",
       "month_dec              -0.0620   1.86e+07  -3.33e-09      1.000   -3.65e+07    3.65e+07\n",
       "month_feb               0.0177   1.86e+07   9.51e-10      1.000   -3.65e+07    3.65e+07\n",
       "month_jan              -1.2101   1.86e+07  -6.51e-08      1.000   -3.65e+07    3.65e+07\n",
       "month_jul              -0.9325   1.86e+07  -5.01e-08      1.000   -3.65e+07    3.65e+07\n",
       "month_jun               0.2579   1.86e+07   1.39e-08      1.000   -3.65e+07    3.65e+07\n",
       "month_mar               1.1890   1.86e+07   6.39e-08      1.000   -3.65e+07    3.65e+07\n",
       "month_may              -0.7259   1.86e+07   -3.9e-08      1.000   -3.65e+07    3.65e+07\n",
       "month_nov              -0.8463   1.86e+07  -4.55e-08      1.000   -3.65e+07    3.65e+07\n",
       "month_oct               1.3983   1.86e+07   7.52e-08      1.000   -3.65e+07    3.65e+07\n",
       "month_sep               0.4380   1.86e+07   2.35e-08      1.000   -3.65e+07    3.65e+07\n",
       "=======================================================================================\n",
       "\"\"\""
      ]
     },
     "execution_count": 111,
     "metadata": {},
     "output_type": "execute_result"
    }
   ],
   "source": [
    "result.summary()"
   ]
  },
  {
   "cell_type": "code",
   "execution_count": 25,
   "metadata": {},
   "outputs": [],
   "source": [
    "# Previous step created more dimentions. we need to perform fetaure selection by dropping weak parameters from strong influences.\n",
    "# refer: http://scikit-learn.org/stable/modules/feature_selection.html\n",
    "# https://machinelearningmastery.com/feature-selection-machine-learning-python/"
   ]
  },
  {
   "cell_type": "code",
   "execution_count": 26,
   "metadata": {},
   "outputs": [
    {
     "data": {
      "text/html": [
       "<div>\n",
       "<style scoped>\n",
       "    .dataframe tbody tr th:only-of-type {\n",
       "        vertical-align: middle;\n",
       "    }\n",
       "\n",
       "    .dataframe tbody tr th {\n",
       "        vertical-align: top;\n",
       "    }\n",
       "\n",
       "    .dataframe thead th {\n",
       "        text-align: right;\n",
       "    }\n",
       "</style>\n",
       "<table border=\"1\" class=\"dataframe\">\n",
       "  <thead>\n",
       "    <tr style=\"text-align: right;\">\n",
       "      <th></th>\n",
       "      <th>0</th>\n",
       "      <th>1</th>\n",
       "    </tr>\n",
       "  </thead>\n",
       "  <tbody>\n",
       "    <tr>\n",
       "      <th>age</th>\n",
       "      <td>-1.945728e-02</td>\n",
       "      <td>8.868139e-03</td>\n",
       "    </tr>\n",
       "    <tr>\n",
       "      <th>balance</th>\n",
       "      <td>-3.990369e-05</td>\n",
       "      <td>3.042387e-05</td>\n",
       "    </tr>\n",
       "    <tr>\n",
       "      <th>duration</th>\n",
       "      <td>3.863300e-03</td>\n",
       "      <td>4.668915e-03</td>\n",
       "    </tr>\n",
       "    <tr>\n",
       "      <th>campaign</th>\n",
       "      <td>-1.329655e-01</td>\n",
       "      <td>-1.992290e-02</td>\n",
       "    </tr>\n",
       "    <tr>\n",
       "      <th>pdays</th>\n",
       "      <td>-1.862073e-03</td>\n",
       "      <td>2.095860e-03</td>\n",
       "    </tr>\n",
       "    <tr>\n",
       "      <th>previous</th>\n",
       "      <td>-9.709224e-02</td>\n",
       "      <td>5.943331e-02</td>\n",
       "    </tr>\n",
       "    <tr>\n",
       "      <th>education_primary</th>\n",
       "      <td>-6.344082e+06</td>\n",
       "      <td>6.344081e+06</td>\n",
       "    </tr>\n",
       "    <tr>\n",
       "      <th>education_secondary</th>\n",
       "      <td>-6.807409e+06</td>\n",
       "      <td>6.807409e+06</td>\n",
       "    </tr>\n",
       "    <tr>\n",
       "      <th>education_tertiary</th>\n",
       "      <td>-6.435404e+06</td>\n",
       "      <td>6.435404e+06</td>\n",
       "    </tr>\n",
       "    <tr>\n",
       "      <th>education_unknown</th>\n",
       "      <td>-6.989425e+06</td>\n",
       "      <td>6.989423e+06</td>\n",
       "    </tr>\n",
       "    <tr>\n",
       "      <th>job_admin.</th>\n",
       "      <td>-8.027906e+06</td>\n",
       "      <td>8.027905e+06</td>\n",
       "    </tr>\n",
       "    <tr>\n",
       "      <th>job_blue-collar</th>\n",
       "      <td>-7.696715e+06</td>\n",
       "      <td>7.696714e+06</td>\n",
       "    </tr>\n",
       "    <tr>\n",
       "      <th>job_entrepreneur</th>\n",
       "      <td>-7.597398e+06</td>\n",
       "      <td>7.597397e+06</td>\n",
       "    </tr>\n",
       "    <tr>\n",
       "      <th>job_housemaid</th>\n",
       "      <td>-7.973663e+06</td>\n",
       "      <td>7.973662e+06</td>\n",
       "    </tr>\n",
       "    <tr>\n",
       "      <th>job_management</th>\n",
       "      <td>-8.813848e+06</td>\n",
       "      <td>8.813848e+06</td>\n",
       "    </tr>\n",
       "    <tr>\n",
       "      <th>job_retired</th>\n",
       "      <td>-8.384873e+06</td>\n",
       "      <td>8.384874e+06</td>\n",
       "    </tr>\n",
       "    <tr>\n",
       "      <th>job_self-employed</th>\n",
       "      <td>-7.836412e+06</td>\n",
       "      <td>7.836412e+06</td>\n",
       "    </tr>\n",
       "    <tr>\n",
       "      <th>job_services</th>\n",
       "      <td>-8.702354e+06</td>\n",
       "      <td>8.702354e+06</td>\n",
       "    </tr>\n",
       "    <tr>\n",
       "      <th>job_student</th>\n",
       "      <td>-7.583103e+06</td>\n",
       "      <td>7.583104e+06</td>\n",
       "    </tr>\n",
       "    <tr>\n",
       "      <th>job_technician</th>\n",
       "      <td>-8.789194e+06</td>\n",
       "      <td>8.789193e+06</td>\n",
       "    </tr>\n",
       "    <tr>\n",
       "      <th>job_unemployed</th>\n",
       "      <td>-8.893503e+06</td>\n",
       "      <td>8.893501e+06</td>\n",
       "    </tr>\n",
       "    <tr>\n",
       "      <th>job_unknown</th>\n",
       "      <td>-8.739676e+06</td>\n",
       "      <td>8.739677e+06</td>\n",
       "    </tr>\n",
       "    <tr>\n",
       "      <th>housing_no</th>\n",
       "      <td>-1.707598e+07</td>\n",
       "      <td>1.707598e+07</td>\n",
       "    </tr>\n",
       "    <tr>\n",
       "      <th>housing_yes</th>\n",
       "      <td>-1.881778e+07</td>\n",
       "      <td>1.881778e+07</td>\n",
       "    </tr>\n",
       "    <tr>\n",
       "      <th>day_1</th>\n",
       "      <td>NaN</td>\n",
       "      <td>NaN</td>\n",
       "    </tr>\n",
       "    <tr>\n",
       "      <th>day_2</th>\n",
       "      <td>NaN</td>\n",
       "      <td>NaN</td>\n",
       "    </tr>\n",
       "    <tr>\n",
       "      <th>day_3</th>\n",
       "      <td>NaN</td>\n",
       "      <td>NaN</td>\n",
       "    </tr>\n",
       "    <tr>\n",
       "      <th>day_4</th>\n",
       "      <td>NaN</td>\n",
       "      <td>NaN</td>\n",
       "    </tr>\n",
       "    <tr>\n",
       "      <th>day_5</th>\n",
       "      <td>NaN</td>\n",
       "      <td>NaN</td>\n",
       "    </tr>\n",
       "    <tr>\n",
       "      <th>day_6</th>\n",
       "      <td>NaN</td>\n",
       "      <td>NaN</td>\n",
       "    </tr>\n",
       "    <tr>\n",
       "      <th>...</th>\n",
       "      <td>...</td>\n",
       "      <td>...</td>\n",
       "    </tr>\n",
       "    <tr>\n",
       "      <th>day_28</th>\n",
       "      <td>NaN</td>\n",
       "      <td>NaN</td>\n",
       "    </tr>\n",
       "    <tr>\n",
       "      <th>day_29</th>\n",
       "      <td>NaN</td>\n",
       "      <td>NaN</td>\n",
       "    </tr>\n",
       "    <tr>\n",
       "      <th>day_30</th>\n",
       "      <td>NaN</td>\n",
       "      <td>NaN</td>\n",
       "    </tr>\n",
       "    <tr>\n",
       "      <th>day_31</th>\n",
       "      <td>NaN</td>\n",
       "      <td>NaN</td>\n",
       "    </tr>\n",
       "    <tr>\n",
       "      <th>marital_divorced</th>\n",
       "      <td>-3.744727e+06</td>\n",
       "      <td>3.744727e+06</td>\n",
       "    </tr>\n",
       "    <tr>\n",
       "      <th>marital_married</th>\n",
       "      <td>-3.470342e+06</td>\n",
       "      <td>3.470341e+06</td>\n",
       "    </tr>\n",
       "    <tr>\n",
       "      <th>marital_single</th>\n",
       "      <td>-3.517559e+06</td>\n",
       "      <td>3.517559e+06</td>\n",
       "    </tr>\n",
       "    <tr>\n",
       "      <th>poutcome_failure</th>\n",
       "      <td>-6.654747e+06</td>\n",
       "      <td>6.654746e+06</td>\n",
       "    </tr>\n",
       "    <tr>\n",
       "      <th>poutcome_other</th>\n",
       "      <td>-7.352755e+06</td>\n",
       "      <td>7.352754e+06</td>\n",
       "    </tr>\n",
       "    <tr>\n",
       "      <th>poutcome_success</th>\n",
       "      <td>-8.272934e+06</td>\n",
       "      <td>8.272937e+06</td>\n",
       "    </tr>\n",
       "    <tr>\n",
       "      <th>poutcome_unknown</th>\n",
       "      <td>-7.114224e+06</td>\n",
       "      <td>7.114222e+06</td>\n",
       "    </tr>\n",
       "    <tr>\n",
       "      <th>default_no</th>\n",
       "      <td>NaN</td>\n",
       "      <td>NaN</td>\n",
       "    </tr>\n",
       "    <tr>\n",
       "      <th>default_yes</th>\n",
       "      <td>NaN</td>\n",
       "      <td>NaN</td>\n",
       "    </tr>\n",
       "    <tr>\n",
       "      <th>loan_no</th>\n",
       "      <td>NaN</td>\n",
       "      <td>NaN</td>\n",
       "    </tr>\n",
       "    <tr>\n",
       "      <th>loan_yes</th>\n",
       "      <td>NaN</td>\n",
       "      <td>NaN</td>\n",
       "    </tr>\n",
       "    <tr>\n",
       "      <th>contact_cellular</th>\n",
       "      <td>-1.545956e+07</td>\n",
       "      <td>1.545956e+07</td>\n",
       "    </tr>\n",
       "    <tr>\n",
       "      <th>contact_telephone</th>\n",
       "      <td>-1.545956e+07</td>\n",
       "      <td>1.545956e+07</td>\n",
       "    </tr>\n",
       "    <tr>\n",
       "      <th>contact_unknown</th>\n",
       "      <td>-1.545956e+07</td>\n",
       "      <td>1.545955e+07</td>\n",
       "    </tr>\n",
       "    <tr>\n",
       "      <th>month_apr</th>\n",
       "      <td>-3.645806e+07</td>\n",
       "      <td>3.645806e+07</td>\n",
       "    </tr>\n",
       "    <tr>\n",
       "      <th>month_aug</th>\n",
       "      <td>-3.645806e+07</td>\n",
       "      <td>3.645806e+07</td>\n",
       "    </tr>\n",
       "    <tr>\n",
       "      <th>month_dec</th>\n",
       "      <td>-3.645806e+07</td>\n",
       "      <td>3.645806e+07</td>\n",
       "    </tr>\n",
       "    <tr>\n",
       "      <th>month_feb</th>\n",
       "      <td>-3.645806e+07</td>\n",
       "      <td>3.645806e+07</td>\n",
       "    </tr>\n",
       "    <tr>\n",
       "      <th>month_jan</th>\n",
       "      <td>-3.645806e+07</td>\n",
       "      <td>3.645806e+07</td>\n",
       "    </tr>\n",
       "    <tr>\n",
       "      <th>month_jul</th>\n",
       "      <td>-3.645806e+07</td>\n",
       "      <td>3.645806e+07</td>\n",
       "    </tr>\n",
       "    <tr>\n",
       "      <th>month_jun</th>\n",
       "      <td>-3.645806e+07</td>\n",
       "      <td>3.645806e+07</td>\n",
       "    </tr>\n",
       "    <tr>\n",
       "      <th>month_mar</th>\n",
       "      <td>-3.645806e+07</td>\n",
       "      <td>3.645806e+07</td>\n",
       "    </tr>\n",
       "    <tr>\n",
       "      <th>month_may</th>\n",
       "      <td>-3.645806e+07</td>\n",
       "      <td>3.645806e+07</td>\n",
       "    </tr>\n",
       "    <tr>\n",
       "      <th>month_nov</th>\n",
       "      <td>-3.645806e+07</td>\n",
       "      <td>3.645806e+07</td>\n",
       "    </tr>\n",
       "    <tr>\n",
       "      <th>month_oct</th>\n",
       "      <td>-3.645806e+07</td>\n",
       "      <td>3.645806e+07</td>\n",
       "    </tr>\n",
       "    <tr>\n",
       "      <th>month_sep</th>\n",
       "      <td>-3.645806e+07</td>\n",
       "      <td>3.645806e+07</td>\n",
       "    </tr>\n",
       "  </tbody>\n",
       "</table>\n",
       "<p>81 rows × 2 columns</p>\n",
       "</div>"
      ],
      "text/plain": [
       "                                0             1\n",
       "age                 -1.945728e-02  8.868139e-03\n",
       "balance             -3.990369e-05  3.042387e-05\n",
       "duration             3.863300e-03  4.668915e-03\n",
       "campaign            -1.329655e-01 -1.992290e-02\n",
       "pdays               -1.862073e-03  2.095860e-03\n",
       "previous            -9.709224e-02  5.943331e-02\n",
       "education_primary   -6.344082e+06  6.344081e+06\n",
       "education_secondary -6.807409e+06  6.807409e+06\n",
       "education_tertiary  -6.435404e+06  6.435404e+06\n",
       "education_unknown   -6.989425e+06  6.989423e+06\n",
       "job_admin.          -8.027906e+06  8.027905e+06\n",
       "job_blue-collar     -7.696715e+06  7.696714e+06\n",
       "job_entrepreneur    -7.597398e+06  7.597397e+06\n",
       "job_housemaid       -7.973663e+06  7.973662e+06\n",
       "job_management      -8.813848e+06  8.813848e+06\n",
       "job_retired         -8.384873e+06  8.384874e+06\n",
       "job_self-employed   -7.836412e+06  7.836412e+06\n",
       "job_services        -8.702354e+06  8.702354e+06\n",
       "job_student         -7.583103e+06  7.583104e+06\n",
       "job_technician      -8.789194e+06  8.789193e+06\n",
       "job_unemployed      -8.893503e+06  8.893501e+06\n",
       "job_unknown         -8.739676e+06  8.739677e+06\n",
       "housing_no          -1.707598e+07  1.707598e+07\n",
       "housing_yes         -1.881778e+07  1.881778e+07\n",
       "day_1                         NaN           NaN\n",
       "day_2                         NaN           NaN\n",
       "day_3                         NaN           NaN\n",
       "day_4                         NaN           NaN\n",
       "day_5                         NaN           NaN\n",
       "day_6                         NaN           NaN\n",
       "...                           ...           ...\n",
       "day_28                        NaN           NaN\n",
       "day_29                        NaN           NaN\n",
       "day_30                        NaN           NaN\n",
       "day_31                        NaN           NaN\n",
       "marital_divorced    -3.744727e+06  3.744727e+06\n",
       "marital_married     -3.470342e+06  3.470341e+06\n",
       "marital_single      -3.517559e+06  3.517559e+06\n",
       "poutcome_failure    -6.654747e+06  6.654746e+06\n",
       "poutcome_other      -7.352755e+06  7.352754e+06\n",
       "poutcome_success    -8.272934e+06  8.272937e+06\n",
       "poutcome_unknown    -7.114224e+06  7.114222e+06\n",
       "default_no                    NaN           NaN\n",
       "default_yes                   NaN           NaN\n",
       "loan_no                       NaN           NaN\n",
       "loan_yes                      NaN           NaN\n",
       "contact_cellular    -1.545956e+07  1.545956e+07\n",
       "contact_telephone   -1.545956e+07  1.545956e+07\n",
       "contact_unknown     -1.545956e+07  1.545955e+07\n",
       "month_apr           -3.645806e+07  3.645806e+07\n",
       "month_aug           -3.645806e+07  3.645806e+07\n",
       "month_dec           -3.645806e+07  3.645806e+07\n",
       "month_feb           -3.645806e+07  3.645806e+07\n",
       "month_jan           -3.645806e+07  3.645806e+07\n",
       "month_jul           -3.645806e+07  3.645806e+07\n",
       "month_jun           -3.645806e+07  3.645806e+07\n",
       "month_mar           -3.645806e+07  3.645806e+07\n",
       "month_may           -3.645806e+07  3.645806e+07\n",
       "month_nov           -3.645806e+07  3.645806e+07\n",
       "month_oct           -3.645806e+07  3.645806e+07\n",
       "month_sep           -3.645806e+07  3.645806e+07\n",
       "\n",
       "[81 rows x 2 columns]"
      ]
     },
     "execution_count": 26,
     "metadata": {},
     "output_type": "execute_result"
    }
   ],
   "source": [
    "result.conf_int()"
   ]
  },
  {
   "cell_type": "code",
   "execution_count": 27,
   "metadata": {},
   "outputs": [
    {
     "data": {
      "text/plain": [
       "age                   -0.005295\n",
       "balance               -0.000005\n",
       "duration               0.004266\n",
       "campaign              -0.076444\n",
       "pdays                  0.000117\n",
       "previous              -0.018829\n",
       "education_primary     -0.375650\n",
       "education_secondary   -0.321984\n",
       "education_tertiary    -0.104528\n",
       "education_unknown     -0.788069\n",
       "job_admin.            -0.103751\n",
       "job_blue-collar       -0.493777\n",
       "job_entrepreneur      -0.346110\n",
       "job_housemaid         -0.538891\n",
       "job_management        -0.157002\n",
       "job_retired            0.507674\n",
       "job_self-employed     -0.199762\n",
       "job_services          -0.245259\n",
       "job_student            0.311950\n",
       "job_technician        -0.329476\n",
       "job_unemployed        -0.829834\n",
       "job_unknown            0.485030\n",
       "housing_no             0.023485\n",
       "housing_yes           -0.198174\n",
       "day_1                  0.999949\n",
       "day_2                 -0.022253\n",
       "day_3                 -0.229188\n",
       "day_4                 -0.386557\n",
       "day_5                 -0.048618\n",
       "day_6                 -0.508904\n",
       "                         ...   \n",
       "day_28                 0.308796\n",
       "day_29                -0.539271\n",
       "day_30                 0.420747\n",
       "day_31                -0.432249\n",
       "marital_divorced      -0.002859\n",
       "marital_married       -0.473593\n",
       "marital_single        -0.332677\n",
       "poutcome_failure      -0.895320\n",
       "poutcome_other        -0.400035\n",
       "poutcome_success       1.524789\n",
       "poutcome_unknown      -1.038563\n",
       "default_no            -0.635300\n",
       "default_yes           -0.173829\n",
       "loan_no               -0.085192\n",
       "loan_yes              -0.723937\n",
       "contact_cellular       0.151602\n",
       "contact_telephone      0.133077\n",
       "contact_unknown       -1.093807\n",
       "month_apr              0.041680\n",
       "month_aug             -0.374936\n",
       "month_dec             -0.061985\n",
       "month_feb              0.017696\n",
       "month_jan             -1.210063\n",
       "month_jul             -0.932489\n",
       "month_jun              0.257912\n",
       "month_mar              1.188987\n",
       "month_may             -0.725857\n",
       "month_nov             -0.846342\n",
       "month_oct              1.398304\n",
       "month_sep              0.437966\n",
       "Length: 81, dtype: float64"
      ]
     },
     "execution_count": 27,
     "metadata": {},
     "output_type": "execute_result"
    }
   ],
   "source": [
    "result.params"
   ]
  },
  {
   "cell_type": "markdown",
   "metadata": {},
   "source": [
    "These values looks far off for causual eye.\n",
    "\n",
    "Do confience intervals and p-values matter, if distrutions are normal. "
   ]
  },
  {
   "cell_type": "code",
   "execution_count": 139,
   "metadata": {},
   "outputs": [],
   "source": [
    "from sklearn.model_selection import train_test_split\n",
    "\n",
    "# Split data to training and test\n",
    "X_train, X_test, y_train, y_test = train_test_split(bnk_mrktg_raw_encoded,target_val,test_size=0.33, random_state=42)"
   ]
  },
  {
   "cell_type": "code",
   "execution_count": 146,
   "metadata": {},
   "outputs": [
    {
     "name": "stdout",
     "output_type": "stream",
     "text": [
      "Optimization terminated successfully.\n",
      "         Current function value: 0.234827\n",
      "         Iterations 12\n"
     ]
    },
    {
     "data": {
      "text/plain": [
       "array([[2609,   57],\n",
       "       [ 232,  131]])"
      ]
     },
     "execution_count": 146,
     "metadata": {},
     "output_type": "execute_result"
    }
   ],
   "source": [
    "logit = sm.Logit(target_val, bnk_mrktg_raw_encoded)\n",
    "result = logit.fit()\n",
    "\n",
    "y_pred_train = result.predict(X_train)\n",
    "y_pred_encod_train = [ 0 if x < 0.5 else 1 for x in y_pred_train]\n",
    "\n",
    "confusion_matrix(y_train,y_pred_encod_train)"
   ]
  },
  {
   "cell_type": "code",
   "execution_count": 149,
   "metadata": {},
   "outputs": [
    {
     "data": {
      "text/plain": [
       "array([[1301,   33],\n",
       "       [ 104,   54]])"
      ]
     },
     "execution_count": 149,
     "metadata": {},
     "output_type": "execute_result"
    }
   ],
   "source": [
    "y_pred_test = result.predict(X_test)\n",
    "\n",
    "y_pred_encod_test = [ 0 if x < 0.5 else 1 for x in y_pred_test]\n",
    "\n",
    "confusion_matrix(y_test,y_pred_encod_test)"
   ]
  },
  {
   "cell_type": "markdown",
   "metadata": {},
   "source": [
    "<b> Type I error : 33 <br>\n",
    "Type II error : 104 </b>"
   ]
  },
  {
   "cell_type": "code",
   "execution_count": 150,
   "metadata": {},
   "outputs": [],
   "source": [
    "from sklearn import metrics\n",
    "\n",
    "fpr, tpr, _ = metrics.roc_curve(y_test, y_pred_encod_test)"
   ]
  },
  {
   "cell_type": "code",
   "execution_count": 151,
   "metadata": {},
   "outputs": [
    {
     "data": {
      "image/png": "[encoded data removed]",
      "text/plain": [
       "<matplotlib.figure.Figure at 0x1142e1940>"
      ]
     },
     "metadata": {},
     "output_type": "display_data"
    }
   ],
   "source": [
    "plt.plot(fpr, tpr, color='red', lw=2, label='ROC curve')\n",
    "##Random FPR and TPR\n",
    "plt.plot([0, 1], [0, 1], color='blue', lw=2, linestyle='--')\n",
    "##Title and label\n",
    "plt.xlabel('FPR')\n",
    "plt.ylabel('TPR')\n",
    "plt.title('ROC curve')\n",
    "plt.show()"
   ]
  },
  {
   "cell_type": "code",
   "execution_count": 152,
   "metadata": {},
   "outputs": [
    {
     "data": {
      "text/plain": [
       "0.6633471239064013"
      ]
     },
     "execution_count": 152,
     "metadata": {},
     "output_type": "execute_result"
    }
   ],
   "source": [
    "from sklearn.metrics import roc_auc_score\n",
    "\n",
    "roc_auc_score(y_test, y_pred)"
   ]
  },
  {
   "cell_type": "code",
   "execution_count": 154,
   "metadata": {},
   "outputs": [
    {
     "data": {
      "text/plain": [
       "0.6697505988067265"
      ]
     },
     "execution_count": 154,
     "metadata": {},
     "output_type": "execute_result"
    }
   ],
   "source": [
    "roc_auc_score(y_train, y_pred_encod_train)"
   ]
  },
  {
   "cell_type": "code",
   "execution_count": 37,
   "metadata": {},
   "outputs": [],
   "source": [
    "#TODO: AT later point \n",
    "\n",
    "# from sklearn.model_selection import RepeatedKFold\n",
    "# rkf = RepeatedKFold(n_splits=4, n_repeats=2, random_state=12883823)\n",
    "# for train_index,test_index in rkf.split(bnk_mrktg_raw_encoded):\n",
    "# print(train_index)\n",
    "# print(test_index)\n",
    "# #X_train,  X_test = bnk_mrktg_raw_encoded.iloc[train_index],target_val[test_index] \n",
    "# #y_train,  y_test = bnk_mrktg_raw_encoded.iloc[train_index],target_val[test_index]\n"
   ]
  },
  {
   "cell_type": "code",
   "execution_count": 73,
   "metadata": {},
   "outputs": [
    {
     "data": {
      "text/plain": [
       "GridSearchCV(cv=sklearn.cross_validation.KFold(n=3029, n_folds=10, shuffle=False, random_state=None),\n",
       "       error_score='raise',\n",
       "       estimator=LogisticRegression(C=1.0, class_weight=None, dual=False, fit_intercept=True,\n",
       "          intercept_scaling=1, max_iter=100, multi_class='ovr', n_jobs=1,\n",
       "          penalty='l2', random_state=None, solver='liblinear', tol=0.0001,\n",
       "          verbose=0, warm_start=False),\n",
       "       fit_params={}, iid=True, n_jobs=1,\n",
       "       param_grid={'C': [100000, 10000, 1000, 100, 10, 1, 0.1, 0.01, 0.001, 0.0001]},\n",
       "       pre_dispatch='2*n_jobs', refit=True, scoring=None, verbose=0)"
      ]
     },
     "execution_count": 73,
     "metadata": {},
     "output_type": "execute_result"
    }
   ],
   "source": [
    "from sklearn import grid_search, cross_validation\n",
    "\n",
    "# Run Grid search for C value with cross validation.\n",
    "gs = grid_search.GridSearchCV(\n",
    "estimator=LogisticRegression(), \\\n",
    "        param_grid={'C': [10**-i for i in range(-5, 5)]}, \\\n",
    "        cv=cross_validation.KFold(n=len(X_train), n_folds=10))\n",
    "\n",
    "# fit grid search instance with train data.\n",
    "gs.fit(X_train,y_train)"
   ]
  },
  {
   "cell_type": "code",
   "execution_count": 74,
   "metadata": {},
   "outputs": [
    {
     "data": {
      "text/plain": [
       "LogisticRegression(C=1, class_weight=None, dual=False, fit_intercept=True,\n",
       "          intercept_scaling=1, max_iter=100, multi_class='ovr', n_jobs=1,\n",
       "          penalty='l2', random_state=None, solver='liblinear', tol=0.0001,\n",
       "          verbose=0, warm_start=False)"
      ]
     },
     "execution_count": 74,
     "metadata": {},
     "output_type": "execute_result"
    }
   ],
   "source": [
    "gs.best_estimator_"
   ]
  },
  {
   "cell_type": "code",
   "execution_count": null,
   "metadata": {},
   "outputs": [],
   "source": [
    "# grid search with cross validation returns retunrs c = 1 as best estimater."
   ]
  },
  {
   "cell_type": "code",
   "execution_count": 155,
   "metadata": {},
   "outputs": [
    {
     "name": "stdout",
     "output_type": "stream",
     "text": [
      "Coefficient of each feature: [[-1.13410822e-03 -2.81081153e-05  4.51968139e-03 -7.06172406e-02\n",
      "  -3.85546813e-04 -1.32281239e-02 -1.45342409e-01  0.00000000e+00\n",
      "   3.06054727e-01 -5.08673757e-01  6.75147616e-02 -2.88726194e-01\n",
      "  -6.34416395e-01  0.00000000e+00  5.84666062e-02  7.28745572e-01\n",
      "   0.00000000e+00 -1.61623543e-01  6.85584523e-01  0.00000000e+00\n",
      "  -5.44946739e-01  0.00000000e+00  0.00000000e+00 -2.06769648e-01\n",
      "   8.01172931e-01  1.19067275e-01  0.00000000e+00 -1.01362637e+00\n",
      "   2.80145639e-02 -1.70827162e-01 -5.26495389e-01 -1.02206473e-01\n",
      "  -7.84305557e-01  2.12678558e-01 -3.05087403e-01  2.55250243e-01\n",
      "   2.56993598e-01 -1.04978182e-01  0.00000000e+00  1.52193607e-01\n",
      "  -5.06159611e-01  3.15126455e-01 -5.94767152e-01 -2.83442329e-01\n",
      "   2.29125302e-01  2.28234832e-01  0.00000000e+00  0.00000000e+00\n",
      "   3.41614418e-01  0.00000000e+00  2.40709240e-01  0.00000000e+00\n",
      "  -4.08407182e-01  4.94614224e-01 -1.19520184e+00  0.00000000e+00\n",
      "  -3.08349057e-01 -1.93262860e-01 -6.18637024e-01  0.00000000e+00\n",
      "   1.79294853e+00 -8.08838026e-01 -8.12044506e-01  0.00000000e+00\n",
      "   0.00000000e+00 -4.39065522e-01  0.00000000e+00  0.00000000e+00\n",
      "  -1.11583073e+00  0.00000000e+00 -6.57109166e-01  0.00000000e+00\n",
      "  -1.45410552e-01 -9.37858028e-01 -7.88903258e-01  1.68412043e-01\n",
      "   1.25750115e+00 -9.36275942e-01 -7.24715239e-01  1.56995616e+00\n",
      "   3.48967672e-01]]\n",
      "Training accuracy: 0.9092109607131066\n",
      "Test accuracy: 0.9068364611260054\n",
      "\n"
     ]
    }
   ],
   "source": [
    "clf = LogisticRegression(penalty='l1', C=1)\n",
    "clf.fit(X_train, y_train)\n",
    "y_pred = clf.predict(X_test)"
   ]
  },
  {
   "cell_type": "code",
   "execution_count": 156,
   "metadata": {},
   "outputs": [
    {
     "data": {
      "text/plain": [
       "0.660557379538079"
      ]
     },
     "execution_count": 156,
     "metadata": {},
     "output_type": "execute_result"
    }
   ],
   "source": [
    "from sklearn.metrics import roc_auc_score\n",
    "\n",
    "roc_auc_score(y_test, y_pred)"
   ]
  }
 ],
 "metadata": {
  "kernelspec": {
   "display_name": "Python 3",
   "language": "python",
   "name": "python3"
  },
  "language_info": {
   "codemirror_mode": {
    "name": "ipython",
    "version": 3
   },
   "file_extension": ".py",
   "mimetype": "text/x-python",
   "name": "python",
   "nbconvert_exporter": "python",
   "pygments_lexer": "ipython3",
   "version": "3.5.0"
  }
 },
 "nbformat": 4,
 "nbformat_minor": 2
}
